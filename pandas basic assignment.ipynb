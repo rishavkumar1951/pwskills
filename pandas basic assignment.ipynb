{
 "cells": [
  {
   "cell_type": "markdown",
   "metadata": {},
   "source": [
    "Q1. Create a Pandas Series that contains the following data: 4, 8, 15, 16, 23, and 42. Then, print the series."
   ]
  },
  {
   "cell_type": "code",
   "execution_count": 61,
   "metadata": {},
   "outputs": [
    {
     "data": {
      "text/plain": [
       "0     4\n",
       "1     8\n",
       "2    15\n",
       "3    16\n",
       "4    23\n",
       "5    42\n",
       "dtype: int64"
      ]
     },
     "execution_count": 61,
     "metadata": {},
     "output_type": "execute_result"
    }
   ],
   "source": [
    "import pandas as pd\n",
    "df=pd.Series([4,8,15,16,23,42])\n",
    "df"
   ]
  },
  {
   "cell_type": "markdown",
   "metadata": {},
   "source": [
    "Q2. Create a variable of list type containing 10 elements in it, and apply pandas.Series function on the\n",
    "variable print it."
   ]
  },
  {
   "cell_type": "code",
   "execution_count": 50,
   "metadata": {},
   "outputs": [
    {
     "data": {
      "text/plain": [
       "a     1\n",
       "b     2\n",
       "c     3\n",
       "d     4\n",
       "e     5\n",
       "f     6\n",
       "g     7\n",
       "h     8\n",
       "i     9\n",
       "j    10\n",
       "dtype: int64"
      ]
     },
     "execution_count": 50,
     "metadata": {},
     "output_type": "execute_result"
    }
   ],
   "source": [
    "l=[1,2,3,4,5,6,7,8,9,10]\n",
    "l2=[1,2,3,4,5,6,7,8,9,10]\n",
    "idx=['a','b','c','d','e','f','g','h','i','j']\n",
    "df21=pd.Series(l)\n",
    "df22=pd.Series(l2)\n",
    "df23=pd.Series(l,index=idx)\n",
    "df23"
   ]
  },
  {
   "cell_type": "code",
   "execution_count": 49,
   "metadata": {},
   "outputs": [
    {
     "data": {
      "text/plain": [
       "0     2\n",
       "1     4\n",
       "2     6\n",
       "3     8\n",
       "4    10\n",
       "5    12\n",
       "6    14\n",
       "7    16\n",
       "8    18\n",
       "9    20\n",
       "dtype: int64"
      ]
     },
     "execution_count": 49,
     "metadata": {},
     "output_type": "execute_result"
    }
   ],
   "source": [
    "df21+df22"
   ]
  },
  {
   "cell_type": "markdown",
   "metadata": {},
   "source": [
    "Q3. Create a Pandas DataFrame that contains the following data:\n",
    "Name\t\tAge\t\tGender\n",
    "Alice\t\t25\t\tFemale\n",
    "Bob\t\t    30\t\tMale\n",
    "Claire\t\t27\t\tFemale\n",
    "Then, print the DataFrame."
   ]
  },
  {
   "cell_type": "code",
   "execution_count": 54,
   "metadata": {},
   "outputs": [
    {
     "data": {
      "text/html": [
       "<div>\n",
       "<style scoped>\n",
       "    .dataframe tbody tr th:only-of-type {\n",
       "        vertical-align: middle;\n",
       "    }\n",
       "\n",
       "    .dataframe tbody tr th {\n",
       "        vertical-align: top;\n",
       "    }\n",
       "\n",
       "    .dataframe thead th {\n",
       "        text-align: right;\n",
       "    }\n",
       "</style>\n",
       "<table border=\"1\" class=\"dataframe\">\n",
       "  <thead>\n",
       "    <tr style=\"text-align: right;\">\n",
       "      <th></th>\n",
       "      <th>name</th>\n",
       "      <th>age</th>\n",
       "      <th>gender</th>\n",
       "    </tr>\n",
       "  </thead>\n",
       "  <tbody>\n",
       "    <tr>\n",
       "      <th>0</th>\n",
       "      <td>Alice</td>\n",
       "      <td>25</td>\n",
       "      <td>Female</td>\n",
       "    </tr>\n",
       "    <tr>\n",
       "      <th>1</th>\n",
       "      <td>Bob</td>\n",
       "      <td>30</td>\n",
       "      <td>Male</td>\n",
       "    </tr>\n",
       "    <tr>\n",
       "      <th>2</th>\n",
       "      <td>Claire</td>\n",
       "      <td>27</td>\n",
       "      <td>Female</td>\n",
       "    </tr>\n",
       "  </tbody>\n",
       "</table>\n",
       "</div>"
      ],
      "text/plain": [
       "     name  age  gender\n",
       "0   Alice   25  Female\n",
       "1     Bob   30    Male\n",
       "2  Claire   27  Female"
      ]
     },
     "execution_count": 54,
     "metadata": {},
     "output_type": "execute_result"
    }
   ],
   "source": [
    "data={\n",
    "    'name':['Alice','Bob','Claire'],\n",
    "    'age':[25,30,27],\n",
    "    'gender':['Female','Male','Female']\n",
    "}\n",
    "\n",
    "df3=pd.DataFrame(data)\n",
    "df3"
   ]
  },
  {
   "cell_type": "markdown",
   "metadata": {},
   "source": [
    "Q4. What is ‘DataFrame’ in pandas and how is it different from pandas.series? Explain with an example."
   ]
  },
  {
   "cell_type": "markdown",
   "metadata": {},
   "source": [
    "A Pandas DataFrame is a 2 dimensional data structure, like a 2 dimensional array, or a table with rows and columns.\n",
    "\n",
    "Pandas Series\t\t\t\t\t\t\t\t\t                                Pandas DataFrame\n",
    "One-dimensional\t\t\t\t\t\tT\t\t\t                                Two-dimensional\n",
    "Homogenous – Series elements must be of the same data type.\t\t\t            Heterogenous – DataFrame elements can have      different data types.\n",
    "Size-immutable – Once created, the size of a Series object cannot be changed.\tSize-mutable – Elements can be dropped or added in an existing DataFrame.\n",
    "\n",
    "\n",
    "As noted in the table, a Pandas Series is a 1D array of data, but a single-column DataFrame is a 2D table with one column. The main distinction between the two is this. For a single-column DataFrame, an index can be optional, but a Series has to have an index defined."
   ]
  },
  {
   "cell_type": "code",
   "execution_count": 65,
   "metadata": {},
   "outputs": [
    {
     "name": "stdout",
     "output_type": "stream",
     "text": [
      "0     4\n",
      "1     8\n",
      "2    15\n",
      "3    16\n",
      "4    23\n",
      "5    42\n",
      "dtype: int64\n"
     ]
    },
    {
     "data": {
      "text/html": [
       "<div>\n",
       "<style scoped>\n",
       "    .dataframe tbody tr th:only-of-type {\n",
       "        vertical-align: middle;\n",
       "    }\n",
       "\n",
       "    .dataframe tbody tr th {\n",
       "        vertical-align: top;\n",
       "    }\n",
       "\n",
       "    .dataframe thead th {\n",
       "        text-align: right;\n",
       "    }\n",
       "</style>\n",
       "<table border=\"1\" class=\"dataframe\">\n",
       "  <thead>\n",
       "    <tr style=\"text-align: right;\">\n",
       "      <th></th>\n",
       "      <th>Class 1</th>\n",
       "      <th>Class 2</th>\n",
       "      <th>Class 3</th>\n",
       "    </tr>\n",
       "  </thead>\n",
       "  <tbody>\n",
       "    <tr>\n",
       "      <th>math avg</th>\n",
       "      <td>22</td>\n",
       "      <td>45</td>\n",
       "      <td>32</td>\n",
       "    </tr>\n",
       "    <tr>\n",
       "      <th>science avg</th>\n",
       "      <td>33</td>\n",
       "      <td>28</td>\n",
       "      <td>41</td>\n",
       "    </tr>\n",
       "    <tr>\n",
       "      <th>english avg</th>\n",
       "      <td>38</td>\n",
       "      <td>36</td>\n",
       "      <td>47</td>\n",
       "    </tr>\n",
       "  </tbody>\n",
       "</table>\n",
       "</div>"
      ],
      "text/plain": [
       "             Class 1  Class 2  Class 3\n",
       "math avg          22       45       32\n",
       "science avg       33       28       41\n",
       "english avg       38       36       47"
      ]
     },
     "execution_count": 65,
     "metadata": {},
     "output_type": "execute_result"
    }
   ],
   "source": [
    "#Creating a Series\n",
    "import pandas as pd\n",
    "df=pd.Series([4,8,15,16,23,42])\n",
    "print(df)\n",
    "\n",
    "\n",
    "\n",
    "#Creating a DataFrame from a dictionary of lists\n",
    "data = {\n",
    "    \"Class 1\": [22, 33, 38],\n",
    "    \"Class 2\": [45, 28, 36], \n",
    "    \"Class 3\": [32, 41, 47]\n",
    "}\n",
    "df = pd.DataFrame(data=data, index=['math avg', 'science avg', 'english avg'])\n",
    "df"
   ]
  },
  {
   "cell_type": "markdown",
   "metadata": {},
   "source": [
    "Q5. What are some common functions you can use to manipulate data in a Pandas DataFrame? Can\n",
    "you give an example of when you might use one of these functions?\n",
    "\n",
    "read_csv(): pd.read_csv is a function in the panda's library in Python that is used to read a CSV (Comma Separated Values) file and convert it into a pandas DataFrame.\n",
    "\n",
    "describe(): The df.describe() method in pandas is used to generate summary statistics of various features of a DataFrame. It returns a new DataFrame that contains the count, mean, standard deviation, minimum, 25th percentile, median, 75th percentile, and maximum of each numerical column in the original DataFrame.\n",
    "\n",
    "info(): df.info() is a method in pandas that is used to get a concise summary of the DataFrame, including the number of non-null values in each column, the data types of each column, and the memory usage of the DataFrame.\n",
    "\n",
    "plot(): df.plot() is a method in pandas that is used to create various types of plots from a DataFrame. By default, it creates a line plot of all numerical columns in the DataFrame. But you can also pass the argument kind to specify the type of plot you want to create. Available options are line, bar, barh, hist, box, kde, density, area, pie, scatter, and hexbin.\n",
    "\n",
    "iloc(): iloc() function is used to select rows and columns by their integer-based index in a DataFrame. It is used to select rows and columns by their integer-based location.\n",
    "\n",
    "loc(): loc() function is used to select rows and columns by their label-based index in a DataFrame. It is used to select rows and columns by their label-based location.\n",
    "\n",
    "assign(): assign() function is used to add new columns to a DataFrame, based on the computation of existing columns. It allows you to add new columns to a DataFrame without modifying the original dataframe. The function returns a new DataFrame with the added columns.\n",
    "\n",
    "query(): query() function allows you to filter a DataFrame based on a Boolean expression. It allows you to select rows from a DataFrame using a query string similar to SQL. The function returns a new DataFrame containing only the rows that satisfy the Boolean expression.\n",
    "\n",
    "isnull(): The isnull() method in Pandas returns a DataFrame of the same shape as the original DataFrame, but with True or False values indicating whether each value in the original DataFrame is missing or not. Missing values, such as NaN or None, will be True in the resulting DataFrame, while non-missing values will be False.\n",
    "\n",
    "fillna(): The fillna() method in Pandas is used to fill in missing values in a DataFrame with a specified value or method. By default, it replaces missing values with NaN, but you can specify a different value to use instead.\n",
    "\n",
    "dropna(): df.dropna() is a method used in the Pandas library to remove missing or null values from a DataFrame. It removes rows or columns from the DataFrame where at least one element is missing. You can remove all rows containing at least one missing value by calling df.dropna().\n",
    "\n",
    "drop(): df.drop() is a method used in the Pandas library to remove rows or columns from a DataFrame by specifying the corresponding labels. It can be used to drop one or multiple rows or columns based on their labels.\n",
    "\n",
    "pivot_table(): pd.pivot_table() is a method in the Pandas library that is used to create a pivot table from a DataFrame. A pivot table is a table that summarizes and aggregates data in a more meaningful and organized way, by creating a new table with one or more columns as the index, one or more columns as values, and one or more columns as attributes.\n",
    "\n",
    "groupby(): df.groupby() is a method in the Pandas library that is used to group rows of a DataFrame based on one or multiple columns. This allows you to perform aggregate operations on the groups, such as calculating the mean, sum, or count of the values in each group.\n",
    "\n",
    "merge(): merge() is a pandas function that allows you to combine two DataFrames based on one or more common columns. It is similar to SQL JOINs. The function returns a new DataFrame that contains only the rows where the values in the specified columns match between the two DataFrames.\n",
    "\n",
    "rename(): rename() is a pandas function that allows you to change the name of one or more columns or rows in a DataFrame. You can use the columns parameter to change the column names, and the index parameter to change the row names.\n",
    "\n",
    "to_csv(): df.to_csv() is a method used in the Pandas library to export a DataFrame to a CSV file. CSV stands for \"Comma Separated Values\" and it is a popular file format for storing data in a tabular form.\n",
    "\n",
    "\n",
    "head(), tail(), type(), len(), url_Data(), drop(), set_index(), reset_index(), DataFrame(), mean(), max(), transpose(), concat(), merge(), join(), apply(), describe(), Categorical(), applymap(), sort_values(), sort_index(), set_option(), split(), mean(), median(), mode(), std(), max(), min(), var(), rolling(), cumsum(), date_range(), value_counts(), "
   ]
  },
  {
   "cell_type": "markdown",
   "metadata": {},
   "source": [
    "Q6. Which of the following is mutable in nature Series, DataFrame, Panel?\n",
    "\n",
    "All Pandas data structures are value mutable (can be changed) and except Series all are size mutable"
   ]
  },
  {
   "cell_type": "markdown",
   "metadata": {},
   "source": [
    "Q7. Create a DataFrame using multiple Series. Explain with an example."
   ]
  },
  {
   "cell_type": "code",
   "execution_count": 69,
   "metadata": {},
   "outputs": [
    {
     "data": {
      "text/html": [
       "<div>\n",
       "<style scoped>\n",
       "    .dataframe tbody tr th:only-of-type {\n",
       "        vertical-align: middle;\n",
       "    }\n",
       "\n",
       "    .dataframe tbody tr th {\n",
       "        vertical-align: top;\n",
       "    }\n",
       "\n",
       "    .dataframe thead th {\n",
       "        text-align: right;\n",
       "    }\n",
       "</style>\n",
       "<table border=\"1\" class=\"dataframe\">\n",
       "  <thead>\n",
       "    <tr style=\"text-align: right;\">\n",
       "      <th></th>\n",
       "      <th>name</th>\n",
       "      <th>age</th>\n",
       "      <th>salary</th>\n",
       "    </tr>\n",
       "  </thead>\n",
       "  <tbody>\n",
       "    <tr>\n",
       "      <th>0</th>\n",
       "      <td>Raja</td>\n",
       "      <td>24</td>\n",
       "      <td>10000</td>\n",
       "    </tr>\n",
       "    <tr>\n",
       "      <th>1</th>\n",
       "      <td>Ajay</td>\n",
       "      <td>28</td>\n",
       "      <td>20000</td>\n",
       "    </tr>\n",
       "    <tr>\n",
       "      <th>2</th>\n",
       "      <td>Rakesh</td>\n",
       "      <td>35</td>\n",
       "      <td>30000</td>\n",
       "    </tr>\n",
       "    <tr>\n",
       "      <th>3</th>\n",
       "      <td>Satish</td>\n",
       "      <td>26</td>\n",
       "      <td>40000</td>\n",
       "    </tr>\n",
       "    <tr>\n",
       "      <th>4</th>\n",
       "      <td>Jaya</td>\n",
       "      <td>23</td>\n",
       "      <td>50000</td>\n",
       "    </tr>\n",
       "  </tbody>\n",
       "</table>\n",
       "</div>"
      ],
      "text/plain": [
       "     name  age  salary\n",
       "0    Raja   24   10000\n",
       "1    Ajay   28   20000\n",
       "2  Rakesh   35   30000\n",
       "3  Satish   26   40000\n",
       "4    Jaya   23   50000"
      ]
     },
     "execution_count": 69,
     "metadata": {},
     "output_type": "execute_result"
    }
   ],
   "source": [
    "df_name=pd.Series([\"Raja\",\"Ajay\",\"Rakesh\",\"Satish\",\"Jaya\"])\n",
    "df_age=pd.Series([24,28,35,26,23])\n",
    "df_salary=pd.Series([10000,20000,30000,40000,50000])\n",
    "df=pd.DataFrame({\n",
    "    'name':df_name,\n",
    "    'age': df_age,\n",
    "    'salary': df_salary\n",
    "})\n",
    "\n",
    "df"
   ]
  }
 ],
 "metadata": {
  "kernelspec": {
   "display_name": "Python 3",
   "language": "python",
   "name": "python3"
  },
  "language_info": {
   "codemirror_mode": {
    "name": "ipython",
    "version": 3
   },
   "file_extension": ".py",
   "mimetype": "text/x-python",
   "name": "python",
   "nbconvert_exporter": "python",
   "pygments_lexer": "ipython3",
   "version": "3.9.6"
  },
  "orig_nbformat": 4
 },
 "nbformat": 4,
 "nbformat_minor": 2
}
