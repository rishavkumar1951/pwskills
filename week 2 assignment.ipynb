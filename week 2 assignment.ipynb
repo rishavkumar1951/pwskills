{
 "cells": [
  {
   "cell_type": "markdown",
   "id": "443e8476-a3cd-4b5c-b0ae-24b66f54cbba",
   "metadata": {},
   "source": [
    "Q1. How do you comment code in Python? What are the different types of comments?"
   ]
  },
  {
   "cell_type": "code",
   "execution_count": 1,
   "id": "264283ae-047c-424d-bf6d-e29922787932",
   "metadata": {},
   "outputs": [
    {
     "name": "stdout",
     "output_type": "stream",
     "text": [
      "Hello, World!\n",
      "Hello, World!\n"
     ]
    }
   ],
   "source": [
    "#This is a comment for single line\n",
    "print(\"Hello, World!\")\n",
    "\n",
    "\"\"\"\n",
    "This is a comment\n",
    "written in\n",
    "more than just one line\n",
    "\"\"\"\n",
    "print(\"Hello, World!\")"
   ]
  },
  {
   "cell_type": "markdown",
   "id": "4d7f7d0e-abfd-417e-a329-166700cfd64b",
   "metadata": {},
   "source": [
    "Q2. What are variables in Python? How do you declare and assign values to variables?"
   ]
  },
  {
   "cell_type": "code",
   "execution_count": 3,
   "id": "5c49846d-03e8-4a63-b2a0-ef7d20723e7c",
   "metadata": {},
   "outputs": [
    {
     "name": "stdout",
     "output_type": "stream",
     "text": [
      "5\n",
      "John\n"
     ]
    }
   ],
   "source": [
    "\"\"\"Variables are containers for storing data values.\n",
    "Python has no command for declaring a variable.\n",
    "A variable is created the moment you first assign a value to it. \"\"\"\n",
    "\n",
    "x = 5\n",
    "y = \"John\"\n",
    "print(x)\n",
    "print(y)"
   ]
  },
  {
   "cell_type": "markdown",
   "id": "c5d31c97-726d-4bfa-873f-bb817fbc29d8",
   "metadata": {},
   "source": [
    "Q3. How do you convert one data type to another in Python?\n",
    "\n",
    "Type conversion is the process of converting one data type to another. There can be two types of type conversion in Python –\n",
    "\n",
    "Implicit Type Conversion\n",
    "Explicit Type Conversion\n",
    "\n",
    "Implicit Type Conversion\n",
    "It is a type of type conversion in which handles automatically convert one data type to another without any user involvement.\n",
    "\n",
    "Explicit Type Conversion\n",
    "In Explicit type conversion, user involvement is required. The user converts one data type to another according to his own need. This can be done with the help of str(), int(), float(), etc. functions. Let’s see the handling of various type conversions.\n",
    "Sr.No.\tFunction & Description\n",
    "1\tint(x [,base])   Converts x to an integer. base specifies the base if x is a string.\n",
    "2\tlong(x [,base] ) Converts x to a long integer. base specifies the base if x is a string.\n",
    "3\tfloat(x)         Converts x to a floating-point number.\n",
    "4\tcomplex(real [,imag])      Creates a complex number.\n",
    "5\tstr(x)           Converts object x to a string representation.\n",
    "6\trepr(x)          Converts object x to an expression string.\n",
    "7\teval(str)        Evaluates a string and returns an object.\n",
    "8\ttuple(s)         Converts s to a tuple.\n",
    "9\tlist(s)          Converts s to a list.\n",
    "10\tset(s)           Converts s to a set.\n",
    "11\tdict(d)          Creates a dictionary. d must be a sequence of (key,value) tuples.\n",
    "12\tfrozenset(s)     Converts s to a frozen set.\n",
    "13\tchr(x)           Converts an integer to a character.\n",
    "14\tunichr(x)        Converts an integer to a Unicode character.\n",
    "15\tord(x)           Converts a single character to its integer value.\n",
    "16\thex(x)           Converts an integer to a hexadecimal string.\n",
    "17\toct(x)           Converts an integer to an octal string."
   ]
  },
  {
   "cell_type": "markdown",
   "id": "fda046a5-61c1-47d8-a2a0-c917a194da9b",
   "metadata": {},
   "source": [
    "Q4. How do you write and execute a Python script from the command line?\n",
    "\n",
    "To run a Python script store in a ‘.py’ file in command line, we have to write ‘python’ keyword before the file name in the command prompt.\n",
    "python hello.py"
   ]
  },
  {
   "cell_type": "markdown",
   "id": "2f10389b-ff58-4e2f-9a4c-fe2603a8f48a",
   "metadata": {},
   "source": [
    "Q5. Given a list my_list = [1, 2, 3, 4, 5], write the code to slice the list and obtain the sub-list [2, 3]."
   ]
  },
  {
   "cell_type": "code",
   "execution_count": 5,
   "id": "d32addb8-d2d2-4139-b946-871c9e95ab46",
   "metadata": {},
   "outputs": [
    {
     "name": "stdout",
     "output_type": "stream",
     "text": [
      "[2, 3]\n"
     ]
    }
   ],
   "source": [
    "my_list = [1, 2, 3, 4, 5]\n",
    "print(my_list[1:3])"
   ]
  },
  {
   "cell_type": "markdown",
   "id": "347d74a5-34dc-4177-9409-b0c7465bc39a",
   "metadata": {},
   "source": [
    "Q6. What is a complex number in mathematics, and how is it represented in Python?\n",
    "\n",
    "The complex number is the combination of a real number and imaginary number. An example of a complex number is 4+3i.\n",
    "\n",
    "Python can also handle complex numbers and its associated functions using the file “cmath”. Complex numbers have their uses in many applications related to mathematics and python provides useful tools to handle and manipulate them. Converting real numbers to complex number An complex number is represented by “ x + yi “. Python converts the real numbers x and y into complex using the function complex(x,y). The real part can be accessed using the function real() and imaginary part can be represented by imag(). "
   ]
  },
  {
   "cell_type": "markdown",
   "id": "7680df50-195b-420b-97f2-6c1c3ebecd02",
   "metadata": {},
   "source": [
    "Q7. What is the correct way to declare a variable named age and assign the value 25 to it?\n",
    "\n",
    "Declaring a variable in Python is very simple. \n",
    "Just name the variable\n",
    "Assign the required value to it\n",
    "The data type of the variable will be automatically determined from the value assigned, we need not define it explicitly.\n",
    "\n",
    "age=25"
   ]
  },
  {
   "cell_type": "markdown",
   "id": "dcbb7d52-17af-419d-9028-e719993ceaf2",
   "metadata": {},
   "source": [
    "Q8. Declare a variable named price and assign the value 9.99 to it. What data type does this variable\n",
    "belong to?"
   ]
  },
  {
   "cell_type": "code",
   "execution_count": 6,
   "id": "c977e8cb-969a-4c4d-8058-baea5c843044",
   "metadata": {},
   "outputs": [
    {
     "name": "stdout",
     "output_type": "stream",
     "text": [
      "<class 'float'>\n"
     ]
    }
   ],
   "source": [
    "price=9.99\n",
    "print(type(price))"
   ]
  },
  {
   "cell_type": "markdown",
   "id": "3e7cb8b0-6569-4f7a-a58c-144e5c2abb89",
   "metadata": {},
   "source": [
    "Q9. Create a variable named name and assign your full name to it as a string. How would you print the\n",
    "value of this variable?"
   ]
  },
  {
   "cell_type": "code",
   "execution_count": 7,
   "id": "126792d1-b7cb-4d7c-8699-b22b086e444d",
   "metadata": {},
   "outputs": [
    {
     "name": "stdout",
     "output_type": "stream",
     "text": [
      "Rishav Kumar\n"
     ]
    }
   ],
   "source": [
    "name=\"Rishav Kumar\"\n",
    "print(name)"
   ]
  },
  {
   "cell_type": "markdown",
   "id": "d311a8d5-bc22-4008-8fb0-9228f98cac69",
   "metadata": {},
   "source": [
    "Q10. Given the string \"Hello, World!\", extract the substring \"World\"."
   ]
  },
  {
   "cell_type": "code",
   "execution_count": 14,
   "id": "77439be9-896b-4169-bba4-03120ff631d0",
   "metadata": {},
   "outputs": [
    {
     "name": "stdout",
     "output_type": "stream",
     "text": [
      "World\n"
     ]
    }
   ],
   "source": [
    "str=\"Hello, World!\"\n",
    "print(str[7:12])"
   ]
  },
  {
   "cell_type": "markdown",
   "id": "dd7037e4-5336-4614-a03c-40decf546b28",
   "metadata": {},
   "source": [
    "Q11. Create a variable named \"is_student\" and assign it a boolean value indicating whether you are\n",
    "currently a student or not."
   ]
  },
  {
   "cell_type": "code",
   "execution_count": 20,
   "id": "54c77062-9922-4877-844d-fee9d1d649c4",
   "metadata": {},
   "outputs": [
    {
     "name": "stdout",
     "output_type": "stream",
     "text": [
      "True\n"
     ]
    }
   ],
   "source": [
    "is_student=True\n",
    "print(is_student)"
   ]
  }
 ],
 "metadata": {
  "kernelspec": {
   "display_name": "Python 3 (ipykernel)",
   "language": "python",
   "name": "python3"
  },
  "language_info": {
   "codemirror_mode": {
    "name": "ipython",
    "version": 3
   },
   "file_extension": ".py",
   "mimetype": "text/x-python",
   "name": "python",
   "nbconvert_exporter": "python",
   "pygments_lexer": "ipython3",
   "version": "3.10.8"
  }
 },
 "nbformat": 4,
 "nbformat_minor": 5
}
