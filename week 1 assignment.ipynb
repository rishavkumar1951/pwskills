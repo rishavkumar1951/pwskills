{
 "cells": [
  {
   "cell_type": "markdown",
   "id": "f805e1f5-f26c-4258-8fa4-e3974a33d8e9",
   "metadata": {},
   "source": [
    "Q1. Create one variable containing following type of data:\n",
    "(i) string\n",
    "(ii) list\n",
    "(iii) float\n",
    "(iv) tuple"
   ]
  },
  {
   "cell_type": "code",
   "execution_count": 29,
   "id": "e9fb8ec6-7073-433f-9044-158b125164f5",
   "metadata": {},
   "outputs": [],
   "source": [
    "x = \"Hello World Namaste to PWSKILLS. Lets Learn\""
   ]
  },
  {
   "cell_type": "code",
   "execution_count": 30,
   "id": "52886aa7-3c24-47ff-9140-2b3ee24d36e5",
   "metadata": {},
   "outputs": [
    {
     "name": "stdout",
     "output_type": "stream",
     "text": [
      "Hello World Namaste to PWSKILLS. Lets Learn\n"
     ]
    }
   ],
   "source": [
    "print(x)"
   ]
  },
  {
   "cell_type": "code",
   "execution_count": 3,
   "id": "bd43cc00-0246-4595-8cf2-b060856090ce",
   "metadata": {},
   "outputs": [],
   "source": [
    "x = [\"apple\", \"banana\", \"cherry\"]"
   ]
  },
  {
   "cell_type": "code",
   "execution_count": 4,
   "id": "30a636e1-c7a9-4c12-8af3-1e8b1432fcf4",
   "metadata": {},
   "outputs": [
    {
     "name": "stdout",
     "output_type": "stream",
     "text": [
      "['apple', 'banana', 'cherry']\n"
     ]
    }
   ],
   "source": [
    "print(x)"
   ]
  },
  {
   "cell_type": "code",
   "execution_count": 5,
   "id": "0d553ba3-f585-4c09-aa33-a23120fc0e58",
   "metadata": {},
   "outputs": [],
   "source": [
    "x = 20.5"
   ]
  },
  {
   "cell_type": "code",
   "execution_count": 6,
   "id": "86d0c919-eb5d-4db9-9c30-15225964bd05",
   "metadata": {},
   "outputs": [
    {
     "name": "stdout",
     "output_type": "stream",
     "text": [
      "20.5\n"
     ]
    }
   ],
   "source": [
    "print(x)"
   ]
  },
  {
   "cell_type": "code",
   "execution_count": 7,
   "id": "52d9f461-c971-481a-97d0-eab8703e945e",
   "metadata": {},
   "outputs": [],
   "source": [
    "x = (\"apple\", \"banana\", \"cherry\")"
   ]
  },
  {
   "cell_type": "code",
   "execution_count": 8,
   "id": "e96b3d32-cef7-4ff4-807b-3622a4ea9d9a",
   "metadata": {},
   "outputs": [
    {
     "name": "stdout",
     "output_type": "stream",
     "text": [
      "('apple', 'banana', 'cherry')\n"
     ]
    }
   ],
   "source": [
    "print(x)"
   ]
  },
  {
   "cell_type": "markdown",
   "id": "56ae2b34-f74a-4077-a140-25f8df9b7b8a",
   "metadata": {},
   "source": [
    "Q2. Given are some following variables containing data:\n",
    "(i) var1 = ‘ ‘\n",
    "(ii) var2 = ‘[ DS , ML , Python]’\n",
    "(iii) var3 = [ ‘DS’ , ’ML’ , ‘Python’ ]\n",
    "(iv) var4 = 1."
   ]
  },
  {
   "cell_type": "code",
   "execution_count": 9,
   "id": "391ddcc3-d616-40b1-b84d-1cfb36dbeece",
   "metadata": {},
   "outputs": [],
   "source": [
    "var1 = ' '"
   ]
  },
  {
   "cell_type": "code",
   "execution_count": 10,
   "id": "5d5dc226-5ede-4d79-b01f-ac4c4a5488b2",
   "metadata": {},
   "outputs": [
    {
     "data": {
      "text/plain": [
       "str"
      ]
     },
     "execution_count": 10,
     "metadata": {},
     "output_type": "execute_result"
    }
   ],
   "source": [
    "type(var1)"
   ]
  },
  {
   "cell_type": "code",
   "execution_count": 11,
   "id": "feba4cde-b063-47f9-90e9-81df013a5679",
   "metadata": {},
   "outputs": [],
   "source": [
    "var2 = '[ DS , ML , Python]'"
   ]
  },
  {
   "cell_type": "code",
   "execution_count": 12,
   "id": "4d8d8c67-b506-48f5-8188-8c43c9d50e64",
   "metadata": {},
   "outputs": [
    {
     "data": {
      "text/plain": [
       "str"
      ]
     },
     "execution_count": 12,
     "metadata": {},
     "output_type": "execute_result"
    }
   ],
   "source": [
    "type(var2)"
   ]
  },
  {
   "cell_type": "code",
   "execution_count": 13,
   "id": "4ed33fb5-a9f5-49a3-890f-3c528b89e037",
   "metadata": {},
   "outputs": [],
   "source": [
    "var3 = [ 'DS' , 'ML' , 'Python' ]"
   ]
  },
  {
   "cell_type": "code",
   "execution_count": 14,
   "id": "f92bee41-4743-4372-93f1-f6547bcc6c91",
   "metadata": {},
   "outputs": [
    {
     "data": {
      "text/plain": [
       "list"
      ]
     },
     "execution_count": 14,
     "metadata": {},
     "output_type": "execute_result"
    }
   ],
   "source": [
    "type(var3)"
   ]
  },
  {
   "cell_type": "code",
   "execution_count": 15,
   "id": "e0e97228-f4e9-4e79-8e7e-544b03380a65",
   "metadata": {},
   "outputs": [],
   "source": [
    "var4 = 1"
   ]
  },
  {
   "cell_type": "code",
   "execution_count": 16,
   "id": "538b4170-5df2-4a18-baed-246736f9df4c",
   "metadata": {},
   "outputs": [
    {
     "data": {
      "text/plain": [
       "int"
      ]
     },
     "execution_count": 16,
     "metadata": {},
     "output_type": "execute_result"
    }
   ],
   "source": [
    "type(var4)"
   ]
  },
  {
   "cell_type": "markdown",
   "id": "5bd40747-87b8-46d9-948a-1756639ac68f",
   "metadata": {},
   "source": [
    "Q3. Explain the use of the following operators using an example:\n",
    "(i) /\n",
    "(ii) %\n",
    "(iii) //\n",
    "(iv) **"
   ]
  },
  {
   "cell_type": "code",
   "execution_count": 17,
   "id": "04825e20-4343-4eae-8398-c8bafef6b100",
   "metadata": {},
   "outputs": [
    {
     "data": {
      "text/plain": [
       "5.0"
      ]
     },
     "execution_count": 17,
     "metadata": {},
     "output_type": "execute_result"
    }
   ],
   "source": [
    "25/5   # / divides 25 by 5"
   ]
  },
  {
   "cell_type": "code",
   "execution_count": 18,
   "id": "b6be617e-324f-49d3-a323-95d6c6a19e85",
   "metadata": {},
   "outputs": [
    {
     "data": {
      "text/plain": [
       "4"
      ]
     },
     "execution_count": 18,
     "metadata": {},
     "output_type": "execute_result"
    }
   ],
   "source": [
    "24%5  # % gives reminder on dividing 24 by 5"
   ]
  },
  {
   "cell_type": "code",
   "execution_count": 19,
   "id": "ada75439-21b8-4974-b355-0d32d53a59cf",
   "metadata": {},
   "outputs": [
    {
     "name": "stdout",
     "output_type": "stream",
     "text": [
      "7\n"
     ]
    }
   ],
   "source": [
    "# // floor division\n",
    "x = 15\n",
    "y = 2\n",
    "\n",
    "print(x // y)"
   ]
  },
  {
   "cell_type": "code",
   "execution_count": 20,
   "id": "1a1f8a0c-1be9-4dc0-a3bf-61dc531b436d",
   "metadata": {},
   "outputs": [
    {
     "data": {
      "text/plain": [
       "32"
      ]
     },
     "execution_count": 20,
     "metadata": {},
     "output_type": "execute_result"
    }
   ],
   "source": [
    "#  ** \tExponentiation operatior\n",
    "2**5"
   ]
  },
  {
   "cell_type": "markdown",
   "id": "1c3f20e6-3a75-4077-950a-02655cb166bb",
   "metadata": {},
   "source": [
    "Q4. Create a list of length 10 of your choice containing multiple types of data. Using for loop print the\n",
    "element and its data type."
   ]
  },
  {
   "cell_type": "code",
   "execution_count": 21,
   "id": "6c5d7509-a81c-4030-b147-493c28e21033",
   "metadata": {},
   "outputs": [
    {
     "name": "stdout",
     "output_type": "stream",
     "text": [
      "Rishav\n",
      "25000.0\n",
      "Earning\n",
      "2\n",
      "Year Experience\n",
      "(4+5j)\n",
      "[1, 2, 3, 4, 5]\n",
      "{'name': 'John', 'age': 36}\n"
     ]
    }
   ],
   "source": [
    "ls=[\"Rishav\", 25000.00, \"Earning\", 2, \"Year Experience\", 4+5j, [1,2,3,4,5], {\"name\" : \"John\", \"age\" : 36}]\n",
    "\n",
    "for x in ls:\n",
    "    print(x)"
   ]
  },
  {
   "cell_type": "markdown",
   "id": "3356e030-0a3b-4c18-ac01-075c5037903f",
   "metadata": {},
   "source": [
    "Q5. Using a while loop, verify if the number A is purely divisible by number B and if so then how many\n",
    "times it can be divisible."
   ]
  },
  {
   "cell_type": "code",
   "execution_count": 22,
   "id": "9d19f2bb-91ea-453a-8411-3bfde8cc57a2",
   "metadata": {},
   "outputs": [
    {
     "name": "stdout",
     "output_type": "stream",
     "text": [
      "5  divides  1025  by  2  times.\n"
     ]
    }
   ],
   "source": [
    "a=1025\n",
    "b=5\n",
    "count=0\n",
    "store=a\n",
    "\n",
    "while a%b==0 :\n",
    "    count+=1\n",
    "    a=a/b\n",
    "    \n",
    "print(b, \" divides \",store, \" by \",count,\" times.\")"
   ]
  },
  {
   "cell_type": "markdown",
   "id": "ed535255-ad3b-4aa8-864f-b69192cdaad4",
   "metadata": {},
   "source": [
    "Q6. Create a list containing 25 int type data. Using for loop and if-else condition print if the element is\n",
    "divisible by 3 or not."
   ]
  },
  {
   "cell_type": "code",
   "execution_count": 23,
   "id": "4021db7a-fb3c-4a0e-bf1b-b6380aaa5141",
   "metadata": {},
   "outputs": [
    {
     "name": "stdout",
     "output_type": "stream",
     "text": [
      "1  is not divisible by 3\n",
      "2  is not divisible by 3\n",
      "3  is divisible by 3\n",
      "4  is not divisible by 3\n",
      "5  is not divisible by 3\n",
      "6  is divisible by 3\n",
      "7  is not divisible by 3\n",
      "8  is not divisible by 3\n",
      "9  is divisible by 3\n",
      "10  is not divisible by 3\n",
      "11  is not divisible by 3\n",
      "12  is divisible by 3\n",
      "13  is not divisible by 3\n",
      "14  is not divisible by 3\n",
      "15  is divisible by 3\n",
      "16  is not divisible by 3\n",
      "17  is not divisible by 3\n",
      "18  is divisible by 3\n",
      "19  is not divisible by 3\n",
      "20  is not divisible by 3\n",
      "21  is divisible by 3\n",
      "22  is not divisible by 3\n",
      "23  is not divisible by 3\n",
      "24  is divisible by 3\n",
      "25  is not divisible by 3\n"
     ]
    }
   ],
   "source": [
    "ls=[1,2,3,4,5,6,7,8,9,10,11,12,13,14,15,16,17,18,19,20,21,22,23,24,25]\n",
    "for x in ls:\n",
    "    if x%3==0:\n",
    "        print(x,\" is divisible by 3\")\n",
    "    else:\n",
    "    \tprint(x,\" is not divisible by 3\")"
   ]
  },
  {
   "cell_type": "markdown",
   "id": "3c142feb-2eb2-49a1-8bd6-dc030e00b838",
   "metadata": {},
   "source": [
    "Q7. What do you understand about mutable and immutable data types? Give examples for both showing\n",
    "this property."
   ]
  },
  {
   "cell_type": "markdown",
   "id": "f6a313b1-10a3-4c60-9950-1b45fc2d4846",
   "metadata": {},
   "source": [
    "In mutable data types, we can modify the already existing values of the data types (such as lists, dictionaries, etc.). \n",
    "Or, we may add new values or remove the existing values from our data types. Basically, we may perform any operation with \n",
    "our data without having to create a new copy of our data type. Hence, the value assigned to any variable can be changed.\n",
    "\n",
    "\n",
    "In Python, if the value of an object cannot be changed over time, then it is known as immutable. Once created, the \n",
    "value of these objects is permanent.\n",
    "\n",
    "Objects of built-in type that are mutable are:\n",
    "\n",
    "Lists\n",
    "Sets\n",
    "Dictionaries\n",
    "User-Defined Classes (It purely depends upon the user to define the characteristics) \n",
    "Objects of built-in type that are immutable are:\n",
    "\n",
    "Numbers (Integer, Rational, Float, Decimal, Complex & Booleans)\n",
    "Strings\n",
    "Tuples\n",
    "Frozen Sets\n",
    "User-Defined Classes (It purely depends upon the user to define the characteristics)"
   ]
  },
  {
   "cell_type": "code",
   "execution_count": 24,
   "id": "cc8d2d5b-44ce-487a-810e-6ff9a787a86e",
   "metadata": {},
   "outputs": [
    {
     "name": "stdout",
     "output_type": "stream",
     "text": [
      "List after appending a value =  [1, 2, 3, 4, 5, 10]\n",
      "List after extending a list =  [1, 2, 3, 4, 5, 10, 6, 11, 23]\n",
      "List after removing a value =  [1, 2, 4, 5, 10, 6, 11, 23]\n"
     ]
    }
   ],
   "source": [
    "# example to demonstrate list is a mutable data type in python\n",
    "\n",
    "# our current list\n",
    "my_list = [1,2,3,4,5]\n",
    "\n",
    "# using append operation in our list\n",
    "my_list.append(10)\n",
    "# printing our list after the operation\n",
    "print(\"List after appending a value = \",my_list)\n",
    "\n",
    "# using extend operation in our list\n",
    "my_list.extend([6,11,23])\n",
    "# printing our list after the operation\n",
    "print(\"List after extending a list = \",my_list)\n",
    "\n",
    "# after removing a value from our list\n",
    "my_list.remove(3)\n",
    "# printing our list after the operation\n",
    "print(\"List after removing a value = \",my_list)\n",
    "\n"
   ]
  },
  {
   "cell_type": "code",
   "execution_count": 25,
   "id": "90ce9387-368a-4f61-9a2c-75191e312614",
   "metadata": {},
   "outputs": [
    {
     "ename": "TypeError",
     "evalue": "'str' object does not support item assignment",
     "output_type": "error",
     "traceback": [
      "\u001b[1;31m---------------------------------------------------------------------------\u001b[0m",
      "\u001b[1;31mTypeError\u001b[0m                                 Traceback (most recent call last)",
      "Cell \u001b[1;32mIn[25], line 2\u001b[0m\n\u001b[0;32m      1\u001b[0m greeting \u001b[39m=\u001b[39m \u001b[39m\"\u001b[39m\u001b[39mHello!\u001b[39m\u001b[39m\"\u001b[39m\n\u001b[1;32m----> 2\u001b[0m greeting[\u001b[39m1\u001b[39;49m] \u001b[39m=\u001b[39m \u001b[39m\"\u001b[39m\u001b[39mE\u001b[39m\u001b[39m\"\u001b[39m\n",
      "\u001b[1;31mTypeError\u001b[0m: 'str' object does not support item assignment"
     ]
    }
   ],
   "source": [
    "greeting = \"Hello!\"\n",
    "greeting[1] = \"E\""
   ]
  }
 ],
 "metadata": {
  "kernelspec": {
   "display_name": "Python 3 (ipykernel)",
   "language": "python",
   "name": "python3"
  },
  "language_info": {
   "codemirror_mode": {
    "name": "ipython",
    "version": 3
   },
   "file_extension": ".py",
   "mimetype": "text/x-python",
   "name": "python",
   "nbconvert_exporter": "python",
   "pygments_lexer": "ipython3",
   "version": "3.9.6"
  }
 },
 "nbformat": 4,
 "nbformat_minor": 5
}
