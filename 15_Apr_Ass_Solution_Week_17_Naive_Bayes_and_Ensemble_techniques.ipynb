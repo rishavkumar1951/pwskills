{
 "cells": [
  {
   "cell_type": "markdown",
   "metadata": {},
   "source": [
    "Q1. You are working on a machine learning project where you have a dataset containing numerical and \n",
    "categorical features. You have identified that some of the features are highly correlated and there are \n",
    "missing values in some of the columns. You want to build a pipeline that automates the feature \n",
    "engineering process and handles the missing values.\n",
    "\n",
    "Design a pipeline that includes the following steps:\n",
    "\n",
    "- Use an automated feature selection method to identify the important features in the datasetC\n",
    "- Create a numerical pipeline that includes the following steps\"\n",
    "- Impute the missing values in the numerical columns using the mean of the column valuesC\n",
    "- Scale the numerical columns using standardisationC\n",
    "- Create a categorical pipeline that includes the following steps\"\n",
    "- Impute the missing values in the categorical columns using the most frequent value of the columnC\n",
    "- One-hot encode the categorical columnsC\n",
    "- Combine the numerical and categorical pipelines using a ColumnTransformerC\n",
    "- Use a Random Forest Classifier to build the final modelC\n",
    "- Evaluate the accuracy of the model on the test datasetD\n",
    "\n",
    "\n",
    "Note: Your solution should include code snippets for each step of the pipeline, and a brief explanation of \n",
    "each step. You should also provide an interpretation of the results and suggest possible improvements for \n",
    "the pipeline."
   ]
  },
  {
   "cell_type": "markdown",
   "metadata": {},
   "source": [
    "# Q2. Build a pipeline that includes a random forest classifier and a logistic regression classifier, and then use a voting classifier to combine their predictions. Train the pipeline on the iris dataset and evaluate its accuracy."
   ]
  }
 ],
 "metadata": {
  "language_info": {
   "name": "python"
  }
 },
 "nbformat": 4,
 "nbformat_minor": 2
}
