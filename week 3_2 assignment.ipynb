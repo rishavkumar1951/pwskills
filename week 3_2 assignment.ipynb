{
 "cells": [
  {
   "cell_type": "markdown",
   "id": "6eb52cd1-26cd-417d-b655-9c46c24d197a",
   "metadata": {},
   "source": [
    "Q1. Create a python program to sort the given list of tuples based on integer value using a\n",
    "lambda function.\n",
    "[('Sachin Tendulkar', 34357), ('Ricky Ponting', 27483), ('Jack Kallis', 25534), ('Virat Kohli', 24936)]"
   ]
  },
  {
   "cell_type": "code",
   "execution_count": 16,
   "id": "c538f91b-4750-4c09-a259-14b924ac18fc",
   "metadata": {},
   "outputs": [
    {
     "name": "stdout",
     "output_type": "stream",
     "text": [
      "[('Virat Kohli', 24936), ('Jack Kallis', 25534), ('Ricky Ponting', 27483), ('Sachin Tendulkar', 34357)]\n"
     ]
    }
   ],
   "source": [
    "l=[('Sachin Tendulkar', 34357), ('Ricky Ponting', 27483), ('Jack Kallis', 25534), ('Virat Kohli', 24936)]\n",
    "l.sort(key = lambda x: x[1])\n",
    "#x=lambda x,y : x if x[1] <=y[1] else y\n",
    "#print(x(l[0],l[1]))\n",
    "#list(map(x,l))\n",
    "print(l)"
   ]
  },
  {
   "cell_type": "markdown",
   "id": "9089f0bd-e34a-4ec3-bb9c-b2d05fd482bb",
   "metadata": {},
   "source": [
    "Q2. Write a Python Program to find the squares of all the numbers in the given list of integers using\n",
    "lambda and map functions.\n",
    "[1, 2, 3, 4, 5, 6, 7, 8, 9, 10]"
   ]
  },
  {
   "cell_type": "code",
   "execution_count": 1,
   "id": "24cfe411-ffc2-4c20-b9b5-231d8db1e51f",
   "metadata": {},
   "outputs": [
    {
     "data": {
      "text/plain": [
       "[1, 4, 9, 16, 25, 36, 49, 64, 81, 100]"
      ]
     },
     "execution_count": 1,
     "metadata": {},
     "output_type": "execute_result"
    }
   ],
   "source": [
    "l=[1, 2, 3, 4, 5, 6, 7, 8, 9, 10]\n",
    "list(map(lambda x : x**2 , l))"
   ]
  },
  {
   "cell_type": "markdown",
   "id": "e55e770a-986d-4e06-9c10-fa2750b62b19",
   "metadata": {},
   "source": [
    "Q3. Write a python program to convert the given list of integers into a tuple of strings. Use map and\n",
    "lambda functions\n",
    "Given String: [1, 2, 3, 4, 5, 6, 7, 8, 9, 10]\n",
    "Expected output: ('1', '2', '3', '4', '5', '6', '7', '8', '9', '10')"
   ]
  },
  {
   "cell_type": "code",
   "execution_count": 3,
   "id": "a18956d8-9ed2-46ac-af7a-0b4c7668b36a",
   "metadata": {},
   "outputs": [
    {
     "data": {
      "text/plain": [
       "['1', '2', '3', '4', '5', '6', '7', '8', '9', '10']"
      ]
     },
     "execution_count": 3,
     "metadata": {},
     "output_type": "execute_result"
    }
   ],
   "source": [
    "l=[1, 2, 3, 4, 5, 6, 7, 8, 9, 10]\n",
    "list(map(lambda x : str(x), l))"
   ]
  },
  {
   "cell_type": "markdown",
   "id": "9d11f0bf-3527-44e0-9110-050a0118a181",
   "metadata": {},
   "source": [
    "Q4. Write a python program using reduce function to compute the product of a list containing numbers\n",
    "from 1 to 25."
   ]
  },
  {
   "cell_type": "code",
   "execution_count": 5,
   "id": "662f20e6-77e2-4aeb-9e72-6a6a959edf1d",
   "metadata": {},
   "outputs": [
    {
     "data": {
      "text/plain": [
       "15511210043330985984000000"
      ]
     },
     "execution_count": 5,
     "metadata": {},
     "output_type": "execute_result"
    }
   ],
   "source": [
    "from functools import  reduce\n",
    "l=[1, 2, 3, 4, 5, 6, 7, 8, 9, 10,11,12,13,14,15,16,17,18,19,20,21,22,23,24,25]\n",
    "reduce(lambda x ,y : x*y , l)"
   ]
  },
  {
   "cell_type": "markdown",
   "id": "c0cecdbc-a3c8-4268-800a-020ca471188d",
   "metadata": {},
   "source": [
    "Q5. Write a python program to filter the numbers in a given list that are divisible by 2 and 3 using the\n",
    "filter function.\n",
    "[2, 3, 6, 9, 27, 60, 90, 120, 55, 46]"
   ]
  },
  {
   "cell_type": "code",
   "execution_count": 6,
   "id": "7883bf60-6804-4054-a738-c0bb8b1a447e",
   "metadata": {},
   "outputs": [
    {
     "data": {
      "text/plain": [
       "[6, 60, 90, 120]"
      ]
     },
     "execution_count": 6,
     "metadata": {},
     "output_type": "execute_result"
    }
   ],
   "source": [
    "l=[2, 3, 6, 9, 27, 60, 90, 120, 55, 46]\n",
    "list(filter(lambda x : x % 2  == 0 and x % 3  == 0 , l))"
   ]
  },
  {
   "cell_type": "markdown",
   "id": "a85e7900-c4d1-47b9-9867-b8cf6ea77644",
   "metadata": {},
   "source": [
    "Q6. Write a python program to find palindromes in the given list of strings using lambda and filter\n",
    "function.\n",
    "['python', 'php', 'aba', 'radar', 'level']"
   ]
  },
  {
   "cell_type": "code",
   "execution_count": 7,
   "id": "46fee2c3-2c91-44e5-a4fa-3f46bde7f77f",
   "metadata": {},
   "outputs": [
    {
     "data": {
      "text/plain": [
       "['php', 'aba', 'radar', 'level']"
      ]
     },
     "execution_count": 7,
     "metadata": {},
     "output_type": "execute_result"
    }
   ],
   "source": [
    "l=['python', 'php', 'aba', 'radar', 'level']\n",
    "list(filter(lambda x: x == x[::-1],l))"
   ]
  }
 ],
 "metadata": {
  "kernelspec": {
   "display_name": "Python 3 (ipykernel)",
   "language": "python",
   "name": "python3"
  },
  "language_info": {
   "codemirror_mode": {
    "name": "ipython",
    "version": 3
   },
   "file_extension": ".py",
   "mimetype": "text/x-python",
   "name": "python",
   "nbconvert_exporter": "python",
   "pygments_lexer": "ipython3",
   "version": "3.10.8"
  }
 },
 "nbformat": 4,
 "nbformat_minor": 5
}
