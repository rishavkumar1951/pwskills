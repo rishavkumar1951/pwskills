{
 "cells": [
  {
   "cell_type": "markdown",
   "metadata": {},
   "source": [
    "### Q1. Explain the assumptions required to use ANOVA and provide examples of violations that could impact the validity of the results.\n",
    "\n",
    "\n",
    "ANOVA (Analysis of Variance) is a statistical method used to analyze the differences among means of three or more groups. To use ANOVA effectively, several assumptions need to be met:\n",
    "\n",
    "1. **Independence**: Observations within each group are independent of each other. This means that the value of one observation does not depend on the value of another observation within the same group. For example, if you are comparing test scores of students in different classes, the performance of one student should not influence the performance of another student within the same class.\n",
    "\n",
    "2. **Normality**: The residuals (the differences between the observed values and the values predicted by the model) are normally distributed for each group. This assumption refers to the distribution of the errors, not necessarily the distribution of the original data. Violations of this assumption may lead to inaccurate p-values and confidence intervals. For instance, if the residuals are skewed or have heavy tails, it could indicate a violation of the normality assumption.\n",
    "\n",
    "3. **Homogeneity of variances (homoscedasticity)**: The variance of the residuals is constant across all levels of the independent variable. In other words, the spread of the data points around the regression line is consistent across groups. If the variances are not equal, it can affect the F-statistic and lead to incorrect conclusions. One example of a violation could be when comparing test scores of students from different schools where the variance in scores differs significantly between schools.\n",
    "\n",
    "Examples of violations that could impact the validity of ANOVA results:\n",
    "\n",
    "1. **Outliers**: Outliers are data points that significantly deviate from the rest of the data. They can skew the distribution of the residuals and violate the assumption of normality. For instance, if there are extreme values in one of the groups being compared, it can affect the overall variance and distort the ANOVA results.\n",
    "\n",
    "2. **Non-normality**: If the residuals are not normally distributed within each group, it can lead to inaccurate hypothesis testing and confidence intervals. This violation may occur when the sample size is small or when the data are heavily skewed or have heavy tails.\n",
    "\n",
    "3. **Unequal variances**: If the variances of the residuals are not consistent across groups, it violates the assumption of homogeneity of variances. This can occur when the groups have different underlying population variances or when there are influential outliers in some groups but not others.\n",
    "\n",
    "4. **Non-independence**: Violation of the independence assumption can occur when there is clustering or dependence within groups. For example, if observations within the same group are correlated or if there is a hierarchical structure in the data, it can lead to biased estimates and inflated Type I error rates.\n",
    "\n",
    "When these assumptions are violated, alternative approaches such as non-parametric tests or transformations of the data may be considered to obtain valid results."
   ]
  },
  {
   "cell_type": "markdown",
   "metadata": {},
   "source": [
    "### Q2. What are the three types of ANOVA, and in what situations would each be used?\n",
    "\n",
    "The three main types of ANOVA are:\n",
    "\n",
    "1. **One-Way ANOVA**: One-Way ANOVA is used when you have one categorical independent variable (with three or more levels) and one continuous dependent variable. It is used to determine whether there are any statistically significant differences between the means of three or more independent (unrelated) groups. For example, you might use a one-way ANOVA to compare the mean scores of students from three different schools on a standardized test.\n",
    "\n",
    "2. **Two-Way ANOVA**: Two-Way ANOVA is used when you have two independent categorical variables (factors) and one continuous dependent variable. It allows you to analyze the main effects of each independent variable as well as the interaction between them. For example, you might use a two-way ANOVA to investigate the effects of both gender and treatment type on patient recovery time.\n",
    "\n",
    "3. **Repeated Measures ANOVA**: Repeated Measures ANOVA is used when you have one group of participants and you measure them under two or more conditions or time points. It is also known as within-subjects ANOVA. Repeated Measures ANOVA is used to determine whether there are any statistically significant differences between the means of the repeated measures. For example, you might use repeated measures ANOVA to compare the performance of participants on a memory task under three different conditions: with no distractions, with mild distractions, and with strong distractions.\n",
    "\n",
    "Each type of ANOVA has its own set of assumptions and is appropriate for different experimental designs. Choosing the correct type of ANOVA depends on the specific research question, the number and type of independent variables, and the experimental design being used.\n"
   ]
  },
  {
   "cell_type": "markdown",
   "metadata": {},
   "source": [
    "### Q3. What is the partitioning of variance in ANOVA, and why is it important to understand this concept?\n",
    "\n",
    "The partitioning of variance in ANOVA refers to the division of the total variance observed in the data into different components that can be attributed to specific sources or factors. Understanding this concept is crucial because it allows researchers to quantify and analyze the contributions of different factors to the overall variability in the data. This, in turn, helps in assessing the significance of these factors and understanding their effects on the dependent variable.\n",
    "\n",
    "In ANOVA, the total variance observed in the data is decomposed into several components:\n",
    "\n",
    "1. **Total Variance (Total SS)**: This is the overall variability observed in the data across all groups or conditions. It represents the sum of squares of the differences between each individual data point and the overall mean.\n",
    "\n",
    "2. **Between-Group Variance (Between SS)**: This component represents the variability between the group means. It quantifies the extent to which the means of different groups or conditions differ from each other.\n",
    "\n",
    "3. **Within-Group Variance (Within SS)**: Also known as residual variance, this component represents the variability within each group or condition. It reflects the differences between individual data points and their respective group means.\n",
    "\n",
    "The partitioning of variance allows researchers to calculate an F-statistic, which compares the variability between groups to the variability within groups. This F-statistic is used to determine whether the observed differences between group means are statistically significant or if they could have occurred by random chance.\n",
    "\n",
    "Understanding the partitioning of variance helps researchers to:\n",
    "\n",
    "- Identify the main effects of different factors or treatments on the dependent variable.\n",
    "- Assess the relative importance of these factors in explaining the observed variability.\n",
    "- Interpret the results of ANOVA tests accurately and draw valid conclusions about the relationships between variables.\n",
    "\n",
    "Overall, the partitioning of variance provides a systematic framework for analyzing and interpreting the results of ANOVA tests, thereby enhancing the reliability and validity of statistical analyses in experimental research."
   ]
  },
  {
   "cell_type": "markdown",
   "metadata": {},
   "source": [
    "### Q4. How would you calculate the total sum of squares (SST), explained sum of squares (SSE), and residual sum of squares (SSR) in a one-way ANOVA using Python?\n",
    "\n",
    "\n",
    "In Python, you can use libraries such as NumPy or SciPy to perform calculations for ANOVA. Here's how you can calculate the total sum of squares (SST), explained sum of squares (SSE), and residual sum of squares (SSR) for a one-way ANOVA:"
   ]
  },
  {
   "cell_type": "code",
   "execution_count": 1,
   "metadata": {},
   "outputs": [
    {
     "name": "stdout",
     "output_type": "stream",
     "text": [
      "Total Sum of Squares (SST): 160.0\n",
      "Explained Sum of Squares (SSE): 70.0\n",
      "Residual Sum of Squares (SSR): 90.0\n"
     ]
    }
   ],
   "source": [
    "import numpy as np\n",
    "from scipy import stats\n",
    "\n",
    "# Sample data for three groups\n",
    "group1 = [10, 12, 14, 16, 18]\n",
    "group2 = [8, 9, 10, 11, 12]\n",
    "group3 = [5, 7, 9, 11, 13]\n",
    "\n",
    "# Combine all data into one array\n",
    "data = np.concatenate([group1, group2, group3])\n",
    "\n",
    "# Calculate grand mean\n",
    "grand_mean = np.mean(data)\n",
    "\n",
    "# Calculate total sum of squares (SST)\n",
    "sst = np.sum((data - grand_mean)**2)\n",
    "\n",
    "# Calculate group means\n",
    "group_means = [np.mean(group) for group in [group1, group2, group3]]\n",
    "\n",
    "# Calculate explained sum of squares (SSE)\n",
    "sse = np.sum([len(group) * (mean - grand_mean)**2 for group, mean in zip([group1, group2, group3], group_means)])\n",
    "\n",
    "# Calculate residual sum of squares (SSR)\n",
    "ssr = sst - sse\n",
    "\n",
    "print(\"Total Sum of Squares (SST):\", sst)\n",
    "print(\"Explained Sum of Squares (SSE):\", sse)\n",
    "print(\"Residual Sum of Squares (SSR):\", ssr)\n"
   ]
  },
  {
   "cell_type": "markdown",
   "metadata": {},
   "source": [
    "### Q5. In a two-way ANOVA, how would you calculate the main effects and interaction effects using Python?\n",
    "\n",
    "In Python, you can use the `statsmodels` library to perform a two-way ANOVA and calculate the main effects and interaction effects. Here's a basic example:"
   ]
  },
  {
   "cell_type": "code",
   "execution_count": 1,
   "metadata": {},
   "outputs": [
    {
     "name": "stdout",
     "output_type": "stream",
     "text": [
      "              sum_sq    df         F    PR(>F)\n",
      "C(A)        0.965363   2.0  0.519948  0.596251\n",
      "C(B)        0.154721   1.0  0.166667  0.684020\n",
      "C(A):C(B)   0.354260   2.0  0.190806  0.826612\n",
      "Residual   87.262638  94.0       NaN       NaN\n",
      "Main Effect of A: 0.010878924009004991\n",
      "Main Effect of B: 0.0017435917690030117\n",
      "Interaction Effect: 0.0039922431486071235\n"
     ]
    }
   ],
   "source": [
    "import numpy as np\n",
    "import pandas as pd\n",
    "import statsmodels.api as sm\n",
    "from statsmodels.formula.api import ols\n",
    "\n",
    "# Create example data\n",
    "np.random.seed(123)\n",
    "data = pd.DataFrame({\n",
    "    'A': np.random.choice(['a', 'b', 'c'], 100),\n",
    "    'B': np.random.choice(['x', 'y'], 100),\n",
    "    'value': np.random.randn(100)\n",
    "})\n",
    "\n",
    "# Fit the ANOVA model\n",
    "model = ols('value ~ C(A) + C(B) + C(A):C(B)', data=data).fit()\n",
    "anova_table = sm.stats.anova_lm(model, typ=2)\n",
    "\n",
    "# Print the ANOVA table\n",
    "print(anova_table)\n",
    "\n",
    "# Calculate main effects\n",
    "main_effect_A = anova_table['sum_sq']['C(A)'] / anova_table['sum_sq'].sum()\n",
    "main_effect_B = anova_table['sum_sq']['C(B)'] / anova_table['sum_sq'].sum()\n",
    "\n",
    "# Calculate interaction effect\n",
    "interaction_effect = anova_table['sum_sq']['C(A):C(B)'] / anova_table['sum_sq'].sum()\n",
    "\n",
    "print(\"Main Effect of A:\", main_effect_A)\n",
    "print(\"Main Effect of B:\", main_effect_B)\n",
    "print(\"Interaction Effect:\", interaction_effect)\n"
   ]
  },
  {
   "attachments": {
    "image.png": {
     "image/png": "[encoded data removed]"
    }
   },
   "cell_type": "markdown",
   "metadata": {},
   "source": [
    "![image.png](attachment:image.png)"
   ]
  },
  {
   "cell_type": "markdown",
   "metadata": {},
   "source": [
    "### Q6. Suppose you conducted a one-way ANOVA and obtained an F-statistic of 5.23 and a p-value of 0.02. What can you conclude about the differences between the groups, and how would you interpret these results?\n",
    "\n",
    "\n",
    "In a one-way ANOVA, the F-statistic tests the null hypothesis that the means of the groups are equal against the alternative hypothesis that at least one of the means is different. \n",
    "\n",
    "Given the F-statistic of 5.23 and a p-value of 0.02:\n",
    "\n",
    "1. **Interpreting the F-statistic**: The F-statistic is a measure of the ratio of the variance between groups to the variance within groups. A larger F-statistic indicates that the variation between group means is larger relative to the variation within groups.\n",
    "\n",
    "2. **Interpreting the p-value**: The p-value associated with the F-statistic tells us the probability of observing the data if the null hypothesis (no differences between group means) were true. A low p-value (typically below a chosen significance level, often 0.05) suggests that the observed differences between group means are unlikely to be due to random chance alone.\n",
    "\n",
    "Based on these results:\n",
    "\n",
    "- With a p-value of 0.02, which is less than the typical significance level of 0.05, we reject the null hypothesis.\n",
    "- Therefore, we conclude that there is evidence to suggest that at least one of the group means is different from the others.\n",
    "\n",
    "In summary, the results indicate that there are statistically significant differences between the groups. However, further analysis, such as post-hoc tests, would be needed to determine which specific groups differ from each other."
   ]
  },
  {
   "cell_type": "markdown",
   "metadata": {},
   "source": [
    "### Q7. In a repeated measures ANOVA, how would you handle missing data, and what are the potential consequences of using different methods to handle missing data?\n",
    "\n",
    "\n",
    "Handling missing data in repeated measures ANOVA requires careful consideration, as different methods can have varying consequences on the analysis results. Here are some common approaches to handle missing data and their potential consequences:\n",
    "\n",
    "1. **Complete Case Analysis (CCA)**:\n",
    "   - This approach involves excluding cases with missing data from the analysis.\n",
    "   - Pros: Simple to implement.\n",
    "   - Cons: It may lead to biased results if the missing data are not missing completely at random (MCAR) or missing at random (MAR). Also, it reduces the sample size and statistical power.\n",
    "\n",
    "2. **Mean Imputation**:\n",
    "   - Missing values are replaced with the mean of the observed values for the respective variable.\n",
    "   - Pros: Preserves the sample size and may produce unbiased estimates if the missing data are missing at random (MAR).\n",
    "   - Cons: Can underestimate the standard errors and inflate Type I error rates, especially if the missing data mechanism is not MAR. It may also underestimate variability and distort relationships among variables.\n",
    "\n",
    "3. **Last Observation Carried Forward (LOCF)**:\n",
    "   - The last observed value for each participant is carried forward to replace missing values.\n",
    "   - Pros: Simple to implement and may preserve temporal trends.\n",
    "   - Cons: May introduce bias, especially if the missing data are not missing at random (MAR) or if the assumption of temporal stability is violated. It can also underestimate variability.\n",
    "\n",
    "4. **Multiple Imputation**:\n",
    "   - Missing values are imputed multiple times based on observed data and a model for the missing data distribution. Analysis is then performed on each imputed dataset, and results are combined.\n",
    "   - Pros: Preserves variability, produces unbiased estimates under certain conditions, and allows for uncertainty estimation.\n",
    "   - Cons: Requires assumptions about the missing data mechanism and may be computationally intensive. Results can be sensitive to the imputation model.\n",
    "\n",
    "5. **Mixed-effects Models**:\n",
    "   - Missing data are handled implicitly within the model estimation process, allowing for the inclusion of all available data.\n",
    "   - Pros: Utilizes all available data, does not require explicit imputation, and can handle missing data under the assumption of missing at random (MAR).\n",
    "   - Cons: Results may be biased if the missing data mechanism is not MAR. Model specification and assumptions need to be carefully considered.\n",
    "\n",
    "In summary, the choice of method for handling missing data in repeated measures ANOVA depends on the nature of the missing data and the assumptions that can be reasonably made about the missing data mechanism. It's essential to carefully evaluate the potential consequences of each approach and consider sensitivity analyses to assess the robustness of the results."
   ]
  },
  {
   "cell_type": "markdown",
   "metadata": {},
   "source": [
    "### Q8. What are some common post-hoc tests used after ANOVA, and when would you use each one? Provide an example of a situation where a post-hoc test might be necessary.\n",
    "\n",
    "\n",
    "Common post-hoc tests used after ANOVA include:\n",
    "\n",
    "1. **Tukey's Honestly Significant Difference (HSD)**:\n",
    "   - This test compares all possible pairs of group means and provides adjusted p-values to determine which pairs are significantly different.\n",
    "   - Use when you have three or more groups and want to identify specific differences between group means.\n",
    "\n",
    "2. **Bonferroni Correction**:\n",
    "   - Adjusts the significance level for multiple comparisons by dividing the desired alpha level (usually 0.05) by the number of comparisons being made.\n",
    "   - Use when conducting multiple pairwise comparisons to control the familywise error rate.\n",
    "\n",
    "3. **Sidak Correction**:\n",
    "   - Similar to the Bonferroni correction but provides a slightly less conservative adjustment by using a different formula for calculating adjusted p-values.\n",
    "   - Use when conducting multiple pairwise comparisons to control the familywise error rate, especially when the Bonferroni correction is overly conservative.\n",
    "\n",
    "4. **Duncan's New Multiple Range Test (MRT)**:\n",
    "   - Divides groups into homogeneous subsets based on mean differences.\n",
    "   - Use when you want to identify groups that do not differ significantly from each other, while also controlling for Type I error rate.\n",
    "\n",
    "5. **Scheffé's Test**:\n",
    "   - Provides adjusted confidence intervals for all possible pairwise comparisons, allowing for more conservative testing compared to Tukey's HSD.\n",
    "   - Use when you want to be very cautious about making Type I errors and need to control the familywise error rate.\n",
    "\n",
    "6. **Games-Howell Test**:\n",
    "   - A non-parametric alternative to Tukey's HSD that does not assume equal variances or sample sizes across groups.\n",
    "   - Use when the assumptions of homogeneity of variances and equal sample sizes are violated.\n",
    "\n",
    "Post-hoc tests are necessary after ANOVA when the omnibus test (ANOVA) indicates that there are significant differences between groups. They help identify which specific groups differ from each other. For example:\n",
    "\n",
    "Suppose you conducted a study to compare the effectiveness of four different teaching methods (A, B, C, and D) on student exam scores. After performing a one-way ANOVA, you find a significant overall effect (p < 0.05). Now, to determine which teaching methods lead to significantly different exam scores, you would conduct post-hoc tests.\n",
    "\n",
    "Using Tukey's HSD, you could compare all possible pairs of teaching methods and identify significant differences. For instance, you might find that teaching methods A and B yield significantly higher exam scores compared to methods C and D. This information would help you understand which teaching methods are more effective and guide decisions for instructional design or educational policy."
   ]
  },
  {
   "cell_type": "markdown",
   "metadata": {},
   "source": [
    "### Q9. A researcher wants to compare the mean weight loss of three diets: A, B, and C. They collect data from 50 participants who were randomly assigned to one of the diets. Conduct a one-way ANOVA using Python to determine if there are any significant differences between the mean weight loss of the three diets. Report the F-statistic and p-value, and interpret the results.\n",
    "\n",
    "\n",
    "let's conduct a one-way ANOVA using Python to analyze the mean weight loss of the three diets. First, we need to simulate some example data since we don't have real weight loss data. Then we'll use the `scipy.stats` module to perform the ANOVA.\n",
    "\n",
    "Here's how you can do it:"
   ]
  },
  {
   "cell_type": "code",
   "execution_count": 2,
   "metadata": {},
   "outputs": [
    {
     "name": "stdout",
     "output_type": "stream",
     "text": [
      "F-statistic: 8.164655110596831\n",
      "p-value: 0.00043412090570363766\n",
      "The one-way ANOVA result is statistically significant, indicating that there are significant differences between the mean weight loss of the three diets.\n"
     ]
    }
   ],
   "source": [
    "import numpy as np\n",
    "from scipy.stats import f_oneway\n",
    "\n",
    "# Simulate example data for weight loss for each diet\n",
    "np.random.seed(123)  # for reproducibility\n",
    "weight_loss_a = np.random.normal(loc=5, scale=2, size=50)  # mean weight loss for diet A\n",
    "weight_loss_b = np.random.normal(loc=4.5, scale=1.5, size=50)  # mean weight loss for diet B\n",
    "weight_loss_c = np.random.normal(loc=6, scale=2.5, size=50)  # mean weight loss for diet C\n",
    "\n",
    "# Combine data from all diets\n",
    "all_weight_loss = np.concatenate([weight_loss_a, weight_loss_b, weight_loss_c])\n",
    "\n",
    "# Create labels for each group\n",
    "group_labels = ['A'] * 50 + ['B'] * 50 + ['C'] * 50\n",
    "\n",
    "# Perform one-way ANOVA\n",
    "f_statistic, p_value = f_oneway(weight_loss_a, weight_loss_b, weight_loss_c)\n",
    "\n",
    "# Report results\n",
    "print(\"F-statistic:\", f_statistic)\n",
    "print(\"p-value:\", p_value)\n",
    "\n",
    "# Interpretation\n",
    "if p_value < 0.05:\n",
    "    print(\"The one-way ANOVA result is statistically significant, indicating that there are significant differences between the mean weight loss of the three diets.\")\n",
    "else:\n",
    "    print(\"The one-way ANOVA result is not statistically significant, indicating that there are no significant differences between the mean weight loss of the three diets.\")"
   ]
  },
  {
   "cell_type": "markdown",
   "metadata": {},
   "source": [
    "In this code:\n",
    "\n",
    "- We simulate example weight loss data for each diet using normal distributions with different mean weight losses.\n",
    "- We combine the data from all diets and create group labels.\n",
    "- We use the `f_oneway` function from `scipy.stats` to perform the one-way ANOVA.\n",
    "- Finally, we report the F-statistic and p-value and interpret the results based on the significance level (usually 0.05).\n",
    "\n",
    "Adjust the parameters of the normal distributions to better reflect your expected weight loss data for each diet."
   ]
  },
  {
   "cell_type": "markdown",
   "metadata": {},
   "source": [
    "### Q10. A company wants to know if there are any significant differences in the average time it takes to complete a task using three different software programs: Program A, Program B, and Program C. They randomly assign 30 employees to one of the programs and record the time it takes each employee to complete the task. Conduct a two-way ANOVA using Python to determine if there are any main effects or interaction effects between the software programs and employee experience level (novice vs. experienced). Report the F-statistics and p-values, and interpret the results.\n",
    "\n",
    "\n",
    "To conduct a two-way ANOVA in Python, you can use the statsmodels library. Here's how you can perform the analysis based on your scenario:"
   ]
  },
  {
   "cell_type": "code",
   "execution_count": 3,
   "metadata": {},
   "outputs": [
    {
     "name": "stdout",
     "output_type": "stream",
     "text": [
      "                              sum_sq    df         F    PR(>F)\n",
      "C(Experience)               0.337958   1.0  0.073606  0.788477\n",
      "C(Program)                 33.330630   2.0  3.629651  0.041955\n",
      "C(Experience):C(Program)   18.969490   2.0  2.065746  0.148669\n",
      "Residual                  110.194493  24.0       NaN       NaN\n"
     ]
    }
   ],
   "source": [
    "import numpy as np\n",
    "import pandas as pd\n",
    "import statsmodels.api as sm\n",
    "from statsmodels.formula.api import ols\n",
    "\n",
    "# Simulate example data\n",
    "np.random.seed(123)\n",
    "n_employees = 30\n",
    "n_levels = 2  # Novice and Experienced\n",
    "n_programs = 3\n",
    "experience_levels = np.random.choice(['Novice', 'Experienced'], size=n_employees)\n",
    "programs = np.random.choice(['A', 'B', 'C'], size=n_employees)\n",
    "times = np.random.normal(loc=10, scale=2, size=n_employees)\n",
    "\n",
    "# Create DataFrame\n",
    "data = pd.DataFrame({\n",
    "    'Experience': experience_levels,\n",
    "    'Program': programs,\n",
    "    'Time': times\n",
    "})\n",
    "\n",
    "# Convert Experience and Program to categorical variables\n",
    "data['Experience'] = pd.Categorical(data['Experience'])\n",
    "data['Program'] = pd.Categorical(data['Program'])\n",
    "\n",
    "# Fit the two-way ANOVA model\n",
    "model = ols('Time ~ C(Experience) + C(Program) + C(Experience):C(Program)', data=data).fit()\n",
    "\n",
    "# Perform ANOVA\n",
    "anova_table = sm.stats.anova_lm(model, typ=2)\n",
    "\n",
    "# Report results\n",
    "print(anova_table)\n"
   ]
  },
  {
   "cell_type": "markdown",
   "metadata": {},
   "source": [
    "In this code:\n",
    "\n",
    "- We simulate example data for employee experience levels, software programs, and completion times.\n",
    "- We create a DataFrame to organize the data.\n",
    "- We fit a two-way ANOVA model using `ols` from `statsmodels.formula.api`.\n",
    "- We use `anova_lm` from `statsmodels.stats.anova` to generate the ANOVA table.\n",
    "\n",
    "The ANOVA table will provide F-statistics and p-values for the main effects of experience level and software program, as well as the interaction effect between them.\n",
    "\n",
    "Interpretation of the results involves examining the p-values associated with each factor and their interactions:\n",
    "\n",
    "- If the p-value for the main effect of Experience or Program is less than the chosen significance level (usually 0.05), it indicates a significant main effect.\n",
    "- If the p-value for the interaction term (Experience:Program) is less than the chosen significance level, it suggests a significant interaction effect, indicating that the effect of one factor depends on the level of the other factor."
   ]
  },
  {
   "cell_type": "markdown",
   "metadata": {},
   "source": [
    "### Q11. An educational researcher is interested in whether a new teaching method improves student test scores. They randomly assign 100 students to either the control group (traditional teaching method) or the experimental group (new teaching method) and administer a test at the end of the semester. Conduct a two-sample t-test using Python to determine if there are any significant differences in test scores between the two groups. If the results are significant, follow up with a post-hoc test to determine which group(s) differ significantly from each other.\n",
    "\n",
    "\n",
    "let's conduct a two-sample t-test in Python to compare the test scores between the control group (traditional teaching method) and the experimental group (new teaching method). If the results are significant, we'll follow up with a post-hoc test to determine which group(s) differ significantly from each other."
   ]
  },
  {
   "cell_type": "code",
   "execution_count": 5,
   "metadata": {},
   "outputs": [
    {
     "name": "stdout",
     "output_type": "stream",
     "text": [
      "Two-sample t-test results:\n",
      "t-statistic: -3.0316172004188147\n",
      "p-value: 0.0027577299763983324\n",
      "The two-sample t-test result is statistically significant, indicating that there are significant differences in test scores between the control and experimental groups.\n"
     ]
    }
   ],
   "source": [
    "import numpy as np\n",
    "from scipy.stats import ttest_ind\n",
    "\n",
    "# Simulate example test scores for the control group (group 0) and experimental group (group 1)\n",
    "np.random.seed(123)\n",
    "control_scores = np.random.normal(loc=70, scale=10, size=100)  # Control group scores\n",
    "experimental_scores = np.random.normal(loc=75, scale=10, size=100)  # Experimental group scores\n",
    "\n",
    "# Perform two-sample t-test\n",
    "t_statistic, p_value = ttest_ind(control_scores, experimental_scores)\n",
    "\n",
    "# Report results\n",
    "print(\"Two-sample t-test results:\")\n",
    "print(\"t-statistic:\", t_statistic)\n",
    "print(\"p-value:\", p_value)\n",
    "\n",
    "# Check if the result is significant\n",
    "if p_value < 0.05:\n",
    "    print(\"The two-sample t-test result is statistically significant, indicating that there are significant differences in test scores between the control and experimental groups.\")\n",
    "else:\n",
    "    print(\"The two-sample t-test result is not statistically significant, indicating that there are no significant differences in test scores between the control and experimental groups.\")\n",
    "\n",
    "# If the result is significant, you can conduct post-hoc tests if necessary to determine which group(s) differ significantly from each other."
   ]
  },
  {
   "cell_type": "markdown",
   "metadata": {},
   "source": [
    "In this code:\n",
    "\n",
    "- We simulate example test scores for the control and experimental groups using normal distributions with different mean scores.\n",
    "- We perform a two-sample t-test using the `ttest_ind` function from `scipy.stats`.\n",
    "- We report the t-statistic and p-value.\n",
    "- We interpret the results based on the significance level (usually 0.05). If the p-value is less than 0.05, we conclude that there are significant differences in test scores between the two groups.\n",
    "\n",
    "If the two-sample t-test results are significant, you can follow up with post-hoc tests (such as Tukey's HSD for multiple group comparisons) to determine which group(s) differ significantly from each other. However, in this case, since there are only two groups, post-hoc tests may not be necessary."
   ]
  },
  {
   "cell_type": "markdown",
   "metadata": {},
   "source": [
    "### Q12. A researcher wants to know if there are any significant differences in the average daily sales of three retail stores: Store A, Store B, and Store C. They randomly select 30 days and record the sales for each store on those days. Conduct a repeated measures ANOVA using Python to determine if there are any significant differences in sales between the three stores. If the results are significant, follow up with a post-hoc test to determine which store(s) differ significantly from each other."
   ]
  },
  {
   "cell_type": "code",
   "execution_count": null,
   "metadata": {},
   "outputs": [],
   "source": [
    "import numpy as np\n",
    "import pandas as pd\n",
    "import statsmodels.api as sm\n",
    "from statsmodels.formula.api import ols\n",
    "\n",
    "# Simulate example data\n",
    "np.random.seed(123)\n",
    "n_days = 30\n",
    "sales_store_A = np.random.normal(loc=500, scale=50, size=n_days)  # Sales for Store A\n",
    "sales_store_B = np.random.normal(loc=550, scale=60, size=n_days)  # Sales for Store B\n",
    "sales_store_C = np.random.normal(loc=600, scale=70, size=n_days)  # Sales for Store C\n",
    "\n",
    "# Create DataFrame\n",
    "data = pd.DataFrame({\n",
    "    'Day': np.repeat(range(1, n_days + 1), 3),  # Repeat days for each store\n",
    "    'Store': np.tile(['A', 'B', 'C'], n_days),  # Repeat store labels for each day\n",
    "    'Sales': np.concatenate([sales_store_A, sales_store_B, sales_store_C])  # Combine sales data\n",
    "})\n",
    "\n",
    "# Convert Store to categorical variable\n",
    "data['Store'] = pd.Categorical(data['Store'])\n",
    "\n",
    "# Fit the repeated measures ANOVA model\n",
    "model = ols('Sales ~ C(Store) + C(Day)', data=data).fit()\n",
    "\n",
    "# Perform ANOVA\n",
    "anova_table = sm.stats.anova_lm(model, typ=2)\n",
    "\n",
    "# Report results\n",
    "print(anova_table)"
   ]
  },
  {
   "cell_type": "markdown",
   "metadata": {},
   "source": [
    "In this code:\n",
    "\n",
    "- We simulate example daily sales data for each store using normal distributions with different mean sales.\n",
    "- We create a DataFrame to organize the data, repeating the day numbers and store labels appropriately.\n",
    "- We fit a repeated measures ANOVA model using `ols` from `statsmodels.formula.api`.\n",
    "- We use `anova_lm` from `statsmodels.stats.anova` to generate the ANOVA table.\n",
    "\n",
    "The ANOVA table will provide F-statistics and p-values for the main effects of Store and Day, as well as the interaction effect between them.\n",
    "\n",
    "Interpretation of the results involves examining the p-values associated with each factor and their interactions:\n",
    "\n",
    "- If the p-value for the main effect of Store is less than the chosen significance level (usually 0.05), it indicates a significant main effect, suggesting that there are significant differences in sales between the stores.\n",
    "- If the p-value for the interaction term (Store:Day) is less than the chosen significance level, it suggests a significant interaction effect, indicating that the effect of store on sales depends on the day of observation.\n",
    "\n",
    "If the results are significant, you can follow up with post-hoc tests (such as Tukey's HSD) to determine which store(s) differ significantly from each other."
   ]
  }
 ],
 "metadata": {
  "kernelspec": {
   "display_name": "Python 3",
   "language": "python",
   "name": "python3"
  },
  "language_info": {
   "codemirror_mode": {
    "name": "ipython",
    "version": 3
   },
   "file_extension": ".py",
   "mimetype": "text/x-python",
   "name": "python",
   "nbconvert_exporter": "python",
   "pygments_lexer": "ipython3",
   "version": "3.9.6"
  }
 },
 "nbformat": 4,
 "nbformat_minor": 2
}
