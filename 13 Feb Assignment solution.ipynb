{
 "cells": [
  {
   "cell_type": "markdown",
   "metadata": {},
   "source": [
    "# Q1"
   ]
  },
  {
   "cell_type": "markdown",
   "metadata": {},
   "source": [
    "Exceptions need to be derived from the Exception class, either directly or indirectly. Although not mandatory, most of the exceptions are named as names that end in “Error” similar to the naming of the standard exceptions in python. For example,"
   ]
  },
  {
   "cell_type": "code",
   "execution_count": 1,
   "metadata": {},
   "outputs": [
    {
     "name": "stdout",
     "output_type": "stream",
     "text": [
      "A New Exception occurred:  6\n"
     ]
    }
   ],
   "source": [
    "# A python program to create user-defined exception\n",
    "# class MyError is derived from super class Exception\n",
    "class MyError(Exception):\n",
    "\n",
    "\t# Constructor or Initializer\n",
    "\tdef __init__(self, value):\n",
    "\t\tself.value = value\n",
    "\n",
    "\t# __str__ is to print() the value\n",
    "\tdef __str__(self):\n",
    "\t\treturn(repr(self.value))\n",
    "\n",
    "\n",
    "try:\n",
    "\traise(MyError(3*2))\n",
    "\n",
    "# Value of Exception is stored in error\n",
    "except MyError as error:\n",
    "\tprint('A New Exception occurred: ', error.value)\n"
   ]
  },
  {
   "cell_type": "markdown",
   "metadata": {},
   "source": [
    "# Q2"
   ]
  },
  {
   "cell_type": "code",
   "execution_count": 2,
   "metadata": {},
   "outputs": [
    {
     "ename": "IndentationError",
     "evalue": "unexpected indent (3201038867.py, line 2)",
     "output_type": "error",
     "traceback": [
      "\u001b[1;36m  Cell \u001b[1;32mIn[2], line 2\u001b[1;36m\u001b[0m\n\u001b[1;33m    ├── BaseExceptionGroup\u001b[0m\n\u001b[1;37m    ^\u001b[0m\n\u001b[1;31mIndentationError\u001b[0m\u001b[1;31m:\u001b[0m unexpected indent\n"
     ]
    }
   ],
   "source": [
    "BaseException\n",
    " ├── BaseExceptionGroup\n",
    " ├── GeneratorExit\n",
    " ├── KeyboardInterrupt\n",
    " ├── SystemExit\n",
    " └── Exception\n",
    "      ├── ArithmeticError\n",
    "      │    ├── FloatingPointError\n",
    "      │    ├── OverflowError\n",
    "      │    └── ZeroDivisionError\n",
    "      ├── AssertionError\n",
    "      ├── AttributeError\n",
    "      ├── BufferError\n",
    "      ├── EOFError\n",
    "      ├── ExceptionGroup [BaseExceptionGroup]\n",
    "      ├── ImportError\n",
    "      │    └── ModuleNotFoundError\n",
    "      ├── LookupError\n",
    "      │    ├── IndexError\n",
    "      │    └── KeyError\n",
    "      ├── MemoryError\n",
    "      ├── NameError\n",
    "      │    └── UnboundLocalError\n",
    "      ├── OSError\n",
    "      │    ├── BlockingIOError\n",
    "      │    ├── ChildProcessError\n",
    "      │    ├── ConnectionError\n",
    "      │    │    ├── BrokenPipeError\n",
    "      │    │    ├── ConnectionAbortedError\n",
    "      │    │    ├── ConnectionRefusedError\n",
    "      │    │    └── ConnectionResetError\n",
    "      │    ├── FileExistsError\n",
    "      │    ├── FileNotFoundError\n",
    "      │    ├── InterruptedError\n",
    "      │    ├── IsADirectoryError\n",
    "      │    ├── NotADirectoryError\n",
    "      │    ├── PermissionError\n",
    "      │    ├── ProcessLookupError\n",
    "      │    └── TimeoutError\n",
    "      ├── ReferenceError\n",
    "      ├── RuntimeError\n",
    "      │    ├── NotImplementedError\n",
    "      │    └── RecursionError\n",
    "      ├── StopAsyncIteration\n",
    "      ├── StopIteration\n",
    "      ├── SyntaxError\n",
    "      │    └── IndentationError\n",
    "      │         └── TabError\n",
    "      ├── SystemError\n",
    "      ├── TypeError\n",
    "      ├── ValueError\n",
    "      │    └── UnicodeError\n",
    "      │         ├── UnicodeDecodeError\n",
    "      │         ├── UnicodeEncodeError\n",
    "      │         └── UnicodeTranslateError\n",
    "      └── Warning\n",
    "           ├── BytesWarning\n",
    "           ├── DeprecationWarning\n",
    "           ├── EncodingWarning\n",
    "           ├── FutureWarning\n",
    "           ├── ImportWarning\n",
    "           ├── PendingDeprecationWarning\n",
    "           ├── ResourceWarning\n",
    "           ├── RuntimeWarning\n",
    "           ├── SyntaxWarning\n",
    "           ├── UnicodeWarning\n",
    "           └── UserWarning\n",
    "\n",
    "def validaetage(age) : \n",
    "    if age < 0 :\n",
    "        raise validateage(\"entered age is negative \" )\n",
    "    elif age > 200 : \n",
    "        raise validateage(\"enterd age is very very high \" )\n",
    "    else :\n",
    "        print(\"age is valid\" )"
   ]
  },
  {
   "cell_type": "code",
   "execution_count": 6,
   "metadata": {},
   "outputs": [
    {
     "name": "stdout",
     "output_type": "stream",
     "text": [
      "enterd age is very very high \n"
     ]
    }
   ],
   "source": [
    "class validateage(Exception):    # Exception class is inherited so all properties of Exception will work here.\n",
    "    \n",
    "    def __init__(self , msg) : \n",
    "        self.msg = msg\n",
    "\n",
    "def validaetage(age) : \n",
    "    if age < 0 :\n",
    "        raise validateage(\"entered age is negative \" )\n",
    "    elif age > 200 : \n",
    "        raise validateage(\"enterd age is very very high \" )\n",
    "    else :\n",
    "        print(\"age is valid\" )\n",
    "\n",
    "try :\n",
    "    age = int(input(\"enter your age\" ))\n",
    "    validaetage(age)\n",
    "except validateage as e :\n",
    "    print(e)"
   ]
  },
  {
   "cell_type": "markdown",
   "metadata": {},
   "source": [
    "# Q3"
   ]
  },
  {
   "cell_type": "markdown",
   "metadata": {},
   "source": [
    "* ##### Exception ArithmeticError \n",
    "This class is the base class for those built-in exceptions that are raised for various arithmetic errors such as :\n",
    "* OverflowError\n",
    "* ZeroDivisionError\n",
    "* FloatingPointError"
   ]
  },
  {
   "cell_type": "code",
   "execution_count": 7,
   "metadata": {},
   "outputs": [
    {
     "name": "stdout",
     "output_type": "stream",
     "text": [
      "This statement is raising an arithmetic exception.\n"
     ]
    }
   ],
   "source": [
    "# ZeroDivisionError\n",
    "try: \n",
    "\ta = 10/0\n",
    "\tprint (a) \n",
    "except ArithmeticError: \n",
    "\t\tprint (\"This statement is raising an arithmetic exception.\") \n",
    "else: \n",
    "\tprint (\"Success.\") "
   ]
  },
  {
   "cell_type": "code",
   "execution_count": 8,
   "metadata": {},
   "outputs": [
    {
     "name": "stdout",
     "output_type": "stream",
     "text": [
      "5.0\n",
      "25.0\n",
      "15625.0\n",
      "5.960464477539062e+16\n",
      "7.52316384526264e+83\n",
      "Overflow error happened\n",
      "(34, 'Result too large'), <class 'OverflowError'>\n"
     ]
    }
   ],
   "source": [
    "# OverflowError\n",
    "j = 5.0\n",
    "\n",
    "try:\n",
    "    for i in range(1, 1000):\n",
    "        j = j**i\n",
    "        print(j)\n",
    "except OverflowError as e:\n",
    "    print(\"Overflow error happened\")\n",
    "    print(f\"{e}, {e.__class__}\")"
   ]
  },
  {
   "cell_type": "markdown",
   "metadata": {},
   "source": [
    "# Q4"
   ]
  },
  {
   "cell_type": "markdown",
   "metadata": {},
   "source": [
    "LookupError(StandardError) is used as a base class for exceptions raised when a sequence or dictionary type doesn't contain a given index or key. IndexError(LookupError) is raised by sequence objects when the given index doesn't exist.\n",
    "\n",
    "https://realpython.com/python-keyerror/    check for  KeyError\n"
   ]
  },
  {
   "cell_type": "code",
   "execution_count": 10,
   "metadata": {},
   "outputs": [
    {
     "ename": "KeyError",
     "evalue": "'Michael'",
     "output_type": "error",
     "traceback": [
      "\u001b[1;31m---------------------------------------------------------------------------\u001b[0m",
      "\u001b[1;31mKeyError\u001b[0m                                  Traceback (most recent call last)",
      "\u001b[1;32mc:\\Users\\Rishav\\OneDrive\\PWskills\\Week 5 Files and Exceptional Handling\\13 Feb Assignment solution.ipynb Cell 13\u001b[0m line \u001b[0;36m3\n\u001b[0;32m      <a href='vscode-notebook-cell:/c%3A/Users/Rishav/OneDrive/PWskills/Week%205%20Files%20and%20Exceptional%20Handling/13%20Feb%20Assignment%20solution.ipynb#X26sZmlsZQ%3D%3D?line=0'>1</a>\u001b[0m \u001b[39m# key error example\u001b[39;00m\n\u001b[0;32m      <a href='vscode-notebook-cell:/c%3A/Users/Rishav/OneDrive/PWskills/Week%205%20Files%20and%20Exceptional%20Handling/13%20Feb%20Assignment%20solution.ipynb#X26sZmlsZQ%3D%3D?line=1'>2</a>\u001b[0m ages \u001b[39m=\u001b[39m {\u001b[39m'\u001b[39m\u001b[39mJim\u001b[39m\u001b[39m'\u001b[39m: \u001b[39m30\u001b[39m, \u001b[39m'\u001b[39m\u001b[39mPam\u001b[39m\u001b[39m'\u001b[39m: \u001b[39m28\u001b[39m, \u001b[39m'\u001b[39m\u001b[39mKevin\u001b[39m\u001b[39m'\u001b[39m: \u001b[39m33\u001b[39m}\n\u001b[1;32m----> <a href='vscode-notebook-cell:/c%3A/Users/Rishav/OneDrive/PWskills/Week%205%20Files%20and%20Exceptional%20Handling/13%20Feb%20Assignment%20solution.ipynb#X26sZmlsZQ%3D%3D?line=2'>3</a>\u001b[0m ages[\u001b[39m'\u001b[39;49m\u001b[39mMichael\u001b[39;49m\u001b[39m'\u001b[39;49m]\n\u001b[0;32m      <a href='vscode-notebook-cell:/c%3A/Users/Rishav/OneDrive/PWskills/Week%205%20Files%20and%20Exceptional%20Handling/13%20Feb%20Assignment%20solution.ipynb#X26sZmlsZQ%3D%3D?line=4'>5</a>\u001b[0m \u001b[39m# Here, attempting to access the key 'Michael' in the ages dictionary results in a KeyError being raised. At the bottom of the traceback, you get the relevant information:\u001b[39;00m\n\u001b[0;32m      <a href='vscode-notebook-cell:/c%3A/Users/Rishav/OneDrive/PWskills/Week%205%20Files%20and%20Exceptional%20Handling/13%20Feb%20Assignment%20solution.ipynb#X26sZmlsZQ%3D%3D?line=5'>6</a>\u001b[0m \n\u001b[0;32m      <a href='vscode-notebook-cell:/c%3A/Users/Rishav/OneDrive/PWskills/Week%205%20Files%20and%20Exceptional%20Handling/13%20Feb%20Assignment%20solution.ipynb#X26sZmlsZQ%3D%3D?line=6'>7</a>\u001b[0m \u001b[39m#The fact that a KeyError was raised\u001b[39;00m\n\u001b[0;32m      <a href='vscode-notebook-cell:/c%3A/Users/Rishav/OneDrive/PWskills/Week%205%20Files%20and%20Exceptional%20Handling/13%20Feb%20Assignment%20solution.ipynb#X26sZmlsZQ%3D%3D?line=7'>8</a>\u001b[0m \u001b[39m#The key that couldn’t be found, which was 'Michael'\u001b[39;00m\n",
      "\u001b[1;31mKeyError\u001b[0m: 'Michael'"
     ]
    }
   ],
   "source": [
    "# key error example\n",
    "ages = {'Jim': 30, 'Pam': 28, 'Kevin': 33}\n",
    "ages['Michael']\n",
    "\n",
    "# Here, attempting to access the key 'Michael' in the ages dictionary results in a KeyError being raised. At the bottom of the traceback, you get the relevant information:\n",
    "\n",
    "#The fact that a KeyError was raised\n",
    "#The key that couldn’t be found, which was 'Michael'"
   ]
  },
  {
   "cell_type": "code",
   "execution_count": 12,
   "metadata": {},
   "outputs": [
    {
     "ename": "IndexError",
     "evalue": "list index out of range",
     "output_type": "error",
     "traceback": [
      "\u001b[1;31m---------------------------------------------------------------------------\u001b[0m",
      "\u001b[1;31mIndexError\u001b[0m                                Traceback (most recent call last)",
      "\u001b[1;32mc:\\Users\\Rishav\\OneDrive\\PWskills\\Week 5 Files and Exceptional Handling\\13 Feb Assignment solution.ipynb Cell 14\u001b[0m line \u001b[0;36m6\n\u001b[0;32m      <a href='vscode-notebook-cell:/c%3A/Users/Rishav/OneDrive/PWskills/Week%205%20Files%20and%20Exceptional%20Handling/13%20Feb%20Assignment%20solution.ipynb#X30sZmlsZQ%3D%3D?line=3'>4</a>\u001b[0m     myList \u001b[39m=\u001b[39m [\u001b[39m1\u001b[39m,\u001b[39m2\u001b[39m,\u001b[39m3\u001b[39m]\n\u001b[0;32m      <a href='vscode-notebook-cell:/c%3A/Users/Rishav/OneDrive/PWskills/Week%205%20Files%20and%20Exceptional%20Handling/13%20Feb%20Assignment%20solution.ipynb#X30sZmlsZQ%3D%3D?line=4'>5</a>\u001b[0m     \u001b[39mprint\u001b[39m(myList[\u001b[39m4\u001b[39m])\n\u001b[1;32m----> <a href='vscode-notebook-cell:/c%3A/Users/Rishav/OneDrive/PWskills/Week%205%20Files%20and%20Exceptional%20Handling/13%20Feb%20Assignment%20solution.ipynb#X30sZmlsZQ%3D%3D?line=5'>6</a>\u001b[0m index_error()\n",
      "\u001b[1;32mc:\\Users\\Rishav\\OneDrive\\PWskills\\Week 5 Files and Exceptional Handling\\13 Feb Assignment solution.ipynb Cell 14\u001b[0m line \u001b[0;36m5\n\u001b[0;32m      <a href='vscode-notebook-cell:/c%3A/Users/Rishav/OneDrive/PWskills/Week%205%20Files%20and%20Exceptional%20Handling/13%20Feb%20Assignment%20solution.ipynb#X30sZmlsZQ%3D%3D?line=2'>3</a>\u001b[0m \u001b[39mdef\u001b[39;00m \u001b[39mindex_error\u001b[39m():\n\u001b[0;32m      <a href='vscode-notebook-cell:/c%3A/Users/Rishav/OneDrive/PWskills/Week%205%20Files%20and%20Exceptional%20Handling/13%20Feb%20Assignment%20solution.ipynb#X30sZmlsZQ%3D%3D?line=3'>4</a>\u001b[0m     myList \u001b[39m=\u001b[39m [\u001b[39m1\u001b[39m,\u001b[39m2\u001b[39m,\u001b[39m3\u001b[39m]\n\u001b[1;32m----> <a href='vscode-notebook-cell:/c%3A/Users/Rishav/OneDrive/PWskills/Week%205%20Files%20and%20Exceptional%20Handling/13%20Feb%20Assignment%20solution.ipynb#X30sZmlsZQ%3D%3D?line=4'>5</a>\u001b[0m     \u001b[39mprint\u001b[39m(myList[\u001b[39m4\u001b[39;49m])\n",
      "\u001b[1;31mIndexError\u001b[0m: list index out of range"
     ]
    }
   ],
   "source": [
    "#  IndexError example\n",
    "#  This program will raise an error when you run it.\n",
    "def index_error():\n",
    "    myList = [1,2,3]\n",
    "    print(myList[4])\n",
    "index_error()"
   ]
  },
  {
   "cell_type": "markdown",
   "metadata": {},
   "source": [
    "# Q5"
   ]
  },
  {
   "cell_type": "markdown",
   "metadata": {},
   "source": [
    "In Python, ImportError occurs when the Python program tries to import module which does not exist in the private table. This exception can be avoided using exception handling using try and except blocks. We also saw examples of how the ImportError occurs and how it is handled.\n",
    "\n",
    "There are two conditions when the ImportError will be raised. They are\n",
    "\n",
    "* If the module does not exist.\n",
    "* If we are trying to import submodule from the module"
   ]
  },
  {
   "cell_type": "code",
   "execution_count": 14,
   "metadata": {},
   "outputs": [
    {
     "name": "stdout",
     "output_type": "stream",
     "text": [
      "Program to demonstrate to handle ImportError:\n",
      "\n",
      "\n",
      "It cannot import module and submodule The crypt module is not supported on Windows\n"
     ]
    }
   ],
   "source": [
    "print(\"Program to demonstrate to handle ImportError:\")\n",
    "print(\"\\n\")\n",
    "try:\n",
    "    from crypt import pwd\n",
    "except ImportError as ie:\n",
    "    print(\"It cannot import module and submodule\", ie)"
   ]
  },
  {
   "cell_type": "markdown",
   "metadata": {},
   "source": [
    "A typical problem in Python is the ModuleNotFoundError: No module called Python error, which happens when the interpreter cannot locate a module that has been imported in the code. There are several potential causes for this issue, including:\n",
    "\n",
    "* Incorrect Spelling of the Module Name"
   ]
  },
  {
   "cell_type": "code",
   "execution_count": 15,
   "metadata": {},
   "outputs": [
    {
     "ename": "ModuleNotFoundError",
     "evalue": "No module named 'matplotlibb'",
     "output_type": "error",
     "traceback": [
      "\u001b[1;31m---------------------------------------------------------------------------\u001b[0m",
      "\u001b[1;31mModuleNotFoundError\u001b[0m                       Traceback (most recent call last)",
      "\u001b[1;32mc:\\Users\\Rishav\\OneDrive\\PWskills\\Week 5 Files and Exceptional Handling\\13 Feb Assignment solution.ipynb Cell 19\u001b[0m line \u001b[0;36m1\n\u001b[1;32m----> <a href='vscode-notebook-cell:/c%3A/Users/Rishav/OneDrive/PWskills/Week%205%20Files%20and%20Exceptional%20Handling/13%20Feb%20Assignment%20solution.ipynb#X35sZmlsZQ%3D%3D?line=0'>1</a>\u001b[0m \u001b[39mimport\u001b[39;00m \u001b[39mmatplotlibb\u001b[39;00m\n",
      "\u001b[1;31mModuleNotFoundError\u001b[0m: No module named 'matplotlibb'"
     ]
    }
   ],
   "source": [
    "import matplotlibb"
   ]
  },
  {
   "cell_type": "markdown",
   "metadata": {},
   "source": [
    "# Q6"
   ]
  },
  {
   "cell_type": "markdown",
   "metadata": {},
   "source": [
    "* 1. Use Exceptions for Exceptional Cases\n",
    "* 2. Don’t Swallow the Exception\n",
    "* 3. Catch Specific Exceptions\n",
    "* 4. Always Clean Up Resources in a Finally Block\n",
    "* 5. Avoid Raising Generic Exceptions\n",
    "* 6. Raise Custom Exceptions\n",
    "* 7. Define Your Own Exception Hierarchy\n",
    "* 8. Document All Exceptions Thrown by a Function\n",
    "* 9. Provide Contextual Information When Raising an Exception\n",
    "* 10. Write Tests to Ensure That Exceptions Are Raised Correctly"
   ]
  }
 ],
 "metadata": {
  "kernelspec": {
   "display_name": "Python 3",
   "language": "python",
   "name": "python3"
  },
  "language_info": {
   "codemirror_mode": {
    "name": "ipython",
    "version": 3
   },
   "file_extension": ".py",
   "mimetype": "text/x-python",
   "name": "python",
   "nbconvert_exporter": "python",
   "pygments_lexer": "ipython3",
   "version": "3.9.6"
  }
 },
 "nbformat": 4,
 "nbformat_minor": 2
}
