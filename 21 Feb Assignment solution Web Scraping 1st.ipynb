{
 "cells": [
  {
   "cell_type": "markdown",
   "metadata": {},
   "source": [
    "### Q1. What is Web Scraping? Why is it Used? Give three areas where Web Scraping is used to get data.\n",
    "\n",
    "Web scraping is an automatic method to obtain large amounts of data from websites. Most of this data is unstructured data in an HTML format which is then converted into structured data in a spreadsheet or a database so that it can be used in various applications. There are many different ways to perform web scraping to obtain data from websites. These include using online services, particular API’s or even creating your code for web scraping from scratch. Many large websites, like Google, Twitter, Facebook, StackOverflow, etc. have API’s that allow you to access their data in a structured format. This is the best option, but there are other sites that don’t allow users to access large amounts of data in a structured form or they are simply not that technologically advanced. In that situation, it’s best to use Web Scraping to scrape the website for data.\n",
    "\n",
    "Web Scraping Used for\n",
    "1. Price Monitoring\n",
    "2. Market Research\n",
    "3. News Monitoring\n",
    "4. Sentiment Analysis\n",
    "5. Email Marketing\n"
   ]
  },
  {
   "cell_type": "markdown",
   "metadata": {},
   "source": [
    "### Q2. What are the different methods used for Web Scraping?\n",
    "\n",
    "Here are some common methods used for web scraping:\n",
    "\n",
    "\n",
    "Manual Copy-and-Paste: This is the most basic form of web scraping. It involves manually copying data from a web page and pasting it into a text file or spreadsheet.\n",
    "\n",
    "Text Pattern Matching: This method involves using text pattern matching tools like the UNIX grep command or regular expression-matching facilities of programming languages like Perl or Python to extract information from web pages.\n",
    "\n",
    "HTTP Programming: This method involves using socket programming to send HTTP requests to a remote web server to retrieve static and dynamic web pages.\n",
    "\n",
    "HTML Parsing: This method involves using HTML parsing tools to parse HTML pages and extract data. This can be done using various programming languages like Python, JavaScript, or Ruby.\n",
    "\n",
    "DOM Parsing: This method involves parsing the Document Object Model (DOM) of a web page to extract data. This can be done using programming languages like JavaScript or Python with libraries like BeautifulSoup.\n",
    "\n",
    "Vertical Aggregation: This method involves using vertically specific harvesting platforms that generate and monitor a plethora of “bots” for specific verticals with no “man in the loop” (direct human involvement) and no work related to a specific target site.\n",
    "\n",
    "Semantic Annotation Recognizing: This method involves recognizing the scraped pages' metadata, semantic markups, and annotations to locate specific data snippets.\n",
    "\n",
    "Computer Vision Web-Page Analysis: This method involves using machine learning and computer vision to identify and extract information from web pages by visually interpreting pages as a human would.\n",
    "\n",
    "Each method has its own advantages and disadvantages, and the choice of method depends on the specific requirements of the web scraping task."
   ]
  },
  {
   "cell_type": "markdown",
   "metadata": {},
   "source": [
    "### Q3. What is Beautiful Soup? Why is it used?\n",
    "\n",
    "Beautiful Soup is a Python package for parsing HTML and XML documents. It creates a parse tree for parsed web pages based on specific criteria that can be used to extract, navigate, search, and modify data from HTML, which is mostly used for web scraping. Beautiful Soup 4 is supported on Python versions 3.6 and greater. Being a useful library, it can save programmers loads of time when collecting data and parsing it."
   ]
  },
  {
   "cell_type": "markdown",
   "metadata": {},
   "source": [
    "Q4. Why is flask used in this Web Scraping project?\n",
    "\n",
    "Flask is an API of Python that allows us to build web applications. It was developed by Armin Ronacher. Flask’s framework is more explicit than Django’s framework and is also easier to learn because it has less base code to implement a simple web application. Flask Python is based on the WSGI(Web Server Gateway Interface) toolkit and Jinja2 template engine.\n",
    "\n",
    "Advantages of Flask\n",
    "- Flask is a lightweight backend framework with minimal dependencies.\n",
    "- Flask is easy to learn because its simple and intuitive API makes it easy to learn and use for beginners.\n",
    "- Flask is a flexible Framework because it allows you to customize and extend the framework to suit your needs easily.\n",
    "- Flask can be used with any database like:- SQL and NoSQL and with any Frontend Technology such as React or Angular.\n",
    "- Flask is great for small to medium projects that do not require the complexity of a large framework.\n",
    "- Flask Documentation"
   ]
  },
  {
   "cell_type": "markdown",
   "metadata": {},
   "source": [
    "Q5. Write the names of AWS services used in this project. Also, explain the use of each service.\n",
    "\n",
    "Amazon S3 (Simple Storage Service)\n",
    "With Amazon, it has become easy to store data anytime, anywhere. Amazon S3 (Simple Storage Service), one of the best services provided by AWS is an object storage service offering scalability, availability, security, and high-performing. You can also retrieve data, data here is stored in “storage classes” where there’s no requirement of extra investment and you can also manage it well. Amazon S3 is the perfect fit for big businesses where a large amount of data is managed for varied purposes. It comes with handling any volume of data with its robust access controls, and replication tools prevent accidental deletion, and also maintains data version controls. "
   ]
  }
 ],
 "metadata": {
  "kernelspec": {
   "display_name": "Python 3",
   "language": "python",
   "name": "python3"
  },
  "language_info": {
   "name": "python",
   "version": "3.9.6"
  }
 },
 "nbformat": 4,
 "nbformat_minor": 2
}
