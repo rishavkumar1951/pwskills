{
 "cells": [
  {
   "cell_type": "markdown",
   "metadata": {},
   "source": [
    "### Q1. What is a database? Differentiate between SQL and NoSQL databases.\\\n",
    "\n",
    "https://www.integrate.io/blog/the-sql-vs-nosql-difference/#:~:text=SQL%20databases%20are%20relational%2C%20and,NoSQL%20databases%20are%20horizontally%20scalable.\n",
    "\n",
    "A database is an organized collection of structured information, or data, typically stored electronically in a computer system. A database is usually controlled by a database management system (DBMS). Together, the data and the DBMS, along with the applications that are associated with them, are referred to as a database system, often shortened to just database.\n",
    "\n",
    "Data within the most common types of databases in operation today is typically modeled in rows and columns in a series of tables to make processing and data querying efficient. The data can then be easily accessed, managed, modified, updated, controlled, and organized. Most databases use structured query language (SQL) for writing and querying data.\n",
    "\n",
    "\n",
    "#### SQL\n",
    "- Stands for Structured Query Language\n",
    "- Relational database management system (RDBMS)\n",
    "- Suitable for structured data with predefined schema\n",
    "- Data is stored in tables with columns and rows\n",
    "- Follows ACID properties (Atomicity, Consistency, Isolation, Durability) for transaction management\n",
    "- Supports JOIN and complex queries\n",
    "- Uses normalized data structure\n",
    "- Requires vertical scaling to handle large volumes of data\n",
    "- Examples: MySQL, PostgreSQL, Oracle, SQL Server, Microsoft SQL Server\n",
    "\n",
    "\n",
    "#### NoSQL\n",
    "- Stands for Not Only SQL\n",
    "- Non-relational database management system\n",
    "- Suitable for unstructured and semi-structured data\n",
    "- Data is stored in collections or documents\n",
    "- Does not necessarily follow ACID properties\n",
    "- Does not support JOIN and complex queries\n",
    "- Uses denormalized data structure\n",
    "- Horizontal scaling is possible to handle large volumes of data\n",
    "- Examples: MongoDB, Cassandra, Couchbase, Amazon DynamoDB, Redis"
   ]
  },
  {
   "cell_type": "markdown",
   "metadata": {},
   "source": [
    "### Q2. What is DDL? Explain why CREATE, DROP, ALTER, and TRUNCATE are used with an example.\n",
    "\n",
    "A data definition language (DDL) is a computer language used to create and modify the structure of database objects in a database. These database objects include views, schemas, tables, indexes, etc.\n",
    "\n",
    "\n",
    "The CREATE TABLE command creates a new table in the database.\n",
    "The following SQL creates a table called \"Persons\" that contains five columns: PersonID, LastName, FirstName, Address, and City:\n",
    "CREATE TABLE Persons (\n",
    "    PersonID int,\n",
    "    LastName varchar(255),\n",
    "    FirstName varchar(255),\n",
    "    Address varchar(255),\n",
    "    City varchar(255)\n",
    ");\n",
    "\n",
    "\n",
    "The ALTER TABLE command adds, deletes, or modifies columns in a table.\n",
    "The ALTER TABLE command also adds and deletes various constraints in a table.\n",
    "The following SQL adds an \"Email\" column to the \"Customers\" table:\n",
    "\n",
    "ALTER TABLE Customers\n",
    "ADD Email varchar(255);\n",
    "\n",
    "\n",
    "The DROP TABLE command deletes a table in the database.\n",
    "The following SQL deletes the table \"Shippers\":\n",
    "\n",
    "DROP TABLE Shippers;\n",
    "\n",
    "\n",
    "The TRUNCATE TABLE command deletes the data inside a table, but not the table itself.\n",
    "The following SQL truncates the table \"Categories\": \n",
    "\n",
    "TRUNCATE TABLE Categories;"
   ]
  },
  {
   "cell_type": "markdown",
   "metadata": {},
   "source": [
    "### Q3. What is DML? Explain INSERT, UPDATE, and DELETE with an example.\n",
    "\n",
    "A data manipulation language (DML) is a family of computer languages including commands permitting users to manipulate data in a database. This manipulation involves inserting data into database tables, retrieving existing data, deleting data from existing tables and modifying existing data. DML is mostly incorporated in SQL databases.\n",
    "\n",
    "\n",
    "INSERT is your go-to for adding single or multiple rows to a table. INSERT can also help with adding rows from one table into another table.\n",
    "\n",
    "INSERT INTO tableName\n",
    "(column1, column2, ...)\n",
    "VALUES (value1, value2, ...)\n",
    "\n",
    "\n",
    "\n",
    "The SQL UPDATE statement is another common task used by data engineers and database administrators. Use it to change a column value for one or multiple rows.\n",
    "    \n",
    "UPDATE tableName\n",
    "SET column1=value1, column2=value2,...\n",
    "WHERE filterColumn=filterValue\n",
    "\n",
    "\n",
    "\n",
    "DELETE removes one or multiple rows from a table, but be careful! You need to make sure you know what you're deleting before you go ahead and commit to the statement!\n",
    "\n",
    "DELETE tableName\n",
    "WHERE  filterColumn=filterValue;"
   ]
  },
  {
   "cell_type": "markdown",
   "metadata": {},
   "source": [
    "### Q4. What is DQL? Explain SELECT with an example.\n",
    "\n",
    "DQL is a portion of a SQL statement that allows you to get and organise data from a database. You can use the SELECT command to extract data from a database in order to perform actions on it. It is the same as the projection operation in relational algebra. The result of a SELECT statement on a table or collection of tables is compiled into a new temporary table, which is subsequently displayed or received by a program, i.e. a front-end.\n"
   ]
  },
  {
   "cell_type": "markdown",
   "metadata": {},
   "source": [
    "### Q5. Explain Primary Key and Foreign Key.\n",
    "\n",
    "A primary key is a unique identifier for each record in a table. A foreign key establishes a relationship between tables by referencing the primary key of another table"
   ]
  },
  {
   "cell_type": "markdown",
   "metadata": {},
   "source": [
    "### Q6. Write a python code to connect MySQL to python. Explain the cursor() and execute() method."
   ]
  },
  {
   "cell_type": "code",
   "execution_count": 4,
   "metadata": {},
   "outputs": [
    {
     "ename": "ModuleNotFoundError",
     "evalue": "No module named 'mysql'",
     "output_type": "error",
     "traceback": [
      "\u001b[1;31m---------------------------------------------------------------------------\u001b[0m",
      "\u001b[1;31mModuleNotFoundError\u001b[0m                       Traceback (most recent call last)",
      "\u001b[1;32mc:\\Users\\Rishav\\OneDrive\\PWskills\\Week 6 Database\\Assignment Solution\\16 Feb Ass Sol.ipynb Cell 9\u001b[0m line \u001b[0;36m1\n\u001b[1;32m----> <a href='vscode-notebook-cell:/c%3A/Users/Rishav/OneDrive/PWskills/Week%206%20Database/Assignment%20Solution/16%20Feb%20Ass%20Sol.ipynb#X13sZmlsZQ%3D%3D?line=0'>1</a>\u001b[0m \u001b[39mimport\u001b[39;00m \u001b[39mmysql\u001b[39;00m\u001b[39m.\u001b[39;00m\u001b[39mconnector\u001b[39;00m\n\u001b[0;32m      <a href='vscode-notebook-cell:/c%3A/Users/Rishav/OneDrive/PWskills/Week%206%20Database/Assignment%20Solution/16%20Feb%20Ass%20Sol.ipynb#X13sZmlsZQ%3D%3D?line=1'>2</a>\u001b[0m \u001b[39m# import mysql.connector\u001b[39;00m\n\u001b[0;32m      <a href='vscode-notebook-cell:/c%3A/Users/Rishav/OneDrive/PWskills/Week%206%20Database/Assignment%20Solution/16%20Feb%20Ass%20Sol.ipynb#X13sZmlsZQ%3D%3D?line=2'>3</a>\u001b[0m \u001b[39m#create user 'user'@'%' identified by 'password'\u001b[39;00m\n\u001b[0;32m      <a href='vscode-notebook-cell:/c%3A/Users/Rishav/OneDrive/PWskills/Week%206%20Database/Assignment%20Solution/16%20Feb%20Ass%20Sol.ipynb#X13sZmlsZQ%3D%3D?line=3'>4</a>\u001b[0m mydb \u001b[39m=\u001b[39m mysql\u001b[39m.\u001b[39mconnector\u001b[39m.\u001b[39mconnect(\n\u001b[0;32m      <a href='vscode-notebook-cell:/c%3A/Users/Rishav/OneDrive/PWskills/Week%206%20Database/Assignment%20Solution/16%20Feb%20Ass%20Sol.ipynb#X13sZmlsZQ%3D%3D?line=4'>5</a>\u001b[0m   host\u001b[39m=\u001b[39m\u001b[39m\"\u001b[39m\u001b[39mlocalhost\u001b[39m\u001b[39m\"\u001b[39m,\n\u001b[0;32m      <a href='vscode-notebook-cell:/c%3A/Users/Rishav/OneDrive/PWskills/Week%206%20Database/Assignment%20Solution/16%20Feb%20Ass%20Sol.ipynb#X13sZmlsZQ%3D%3D?line=5'>6</a>\u001b[0m   user\u001b[39m=\u001b[39m\u001b[39m\"\u001b[39m\u001b[39mabc\u001b[39m\u001b[39m\"\u001b[39m,\n\u001b[0;32m      <a href='vscode-notebook-cell:/c%3A/Users/Rishav/OneDrive/PWskills/Week%206%20Database/Assignment%20Solution/16%20Feb%20Ass%20Sol.ipynb#X13sZmlsZQ%3D%3D?line=6'>7</a>\u001b[0m   password\u001b[39m=\u001b[39m\u001b[39m\"\u001b[39m\u001b[39mpassword\u001b[39m\u001b[39m\"\u001b[39m\n\u001b[0;32m      <a href='vscode-notebook-cell:/c%3A/Users/Rishav/OneDrive/PWskills/Week%206%20Database/Assignment%20Solution/16%20Feb%20Ass%20Sol.ipynb#X13sZmlsZQ%3D%3D?line=7'>8</a>\u001b[0m )\n",
      "\u001b[1;31mModuleNotFoundError\u001b[0m: No module named 'mysql'"
     ]
    }
   ],
   "source": [
    "import mysql.connector\n",
    "# import mysql.connector\n",
    "#create user 'user'@'%' identified by 'password'\n",
    "mydb = mysql.connector.connect(\n",
    "  host=\"localhost\",\n",
    "  user=\"abc\",\n",
    "  password=\"password\"\n",
    ")\n",
    "print(mydb)\n",
    "mycursor = mydb.cursor()\n",
    "mycursor.execute(\"CREATE DATABASE if not exists test2\")\n",
    "mydb.close"
   ]
  },
  {
   "cell_type": "markdown",
   "metadata": {},
   "source": [
    "### Q7. Give the order of execution of SQL clauses in an SQL query.\n",
    "\n",
    "#### 7 STAGES OF SQL ORDER OF EXECUTION \n",
    "- FROM/JOIN\n",
    "- WHERE\n",
    "- GROUP BY\n",
    "- HAVING\n",
    "- SELECT\n",
    "- ORDER BY\n",
    "- LIMIT/OFFSET"
   ]
  }
 ],
 "metadata": {
  "kernelspec": {
   "display_name": "Python 3",
   "language": "python",
   "name": "python3"
  },
  "language_info": {
   "codemirror_mode": {
    "name": "ipython",
    "version": 3
   },
   "file_extension": ".py",
   "mimetype": "text/x-python",
   "name": "python",
   "nbconvert_exporter": "python",
   "pygments_lexer": "ipython3",
   "version": "3.9.6"
  }
 },
 "nbformat": 4,
 "nbformat_minor": 2
}
