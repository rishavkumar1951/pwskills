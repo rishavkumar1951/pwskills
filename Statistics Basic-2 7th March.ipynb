{
 "cells": [
  {
   "cell_type": "markdown",
   "metadata": {},
   "source": [
    "## Statistics Basic-2 7th March"
   ]
  },
  {
   "cell_type": "markdown",
   "metadata": {},
   "source": [
    "Q1. What are the three measures of central tendency?\n",
    "\n",
    "Mean, Median, Mode"
   ]
  },
  {
   "cell_type": "markdown",
   "metadata": {},
   "source": [
    "Q2. What is the difference between the mean, median, and mode? How are they used to measure the\n",
    "central tendency of a dataset?\n",
    "\n",
    "The mean is the average where the sum of all the numbers is divided by the total number of numbers, whereas the median is the middle value in the list of given numbers numerically ordered from smallest to biggest and mode is the value of the number which occurs most often in the list.\n"
   ]
  },
  {
   "cell_type": "markdown",
   "metadata": {},
   "source": [
    "Q3. Measure the three measures of central tendency for the given height data:\n",
    "[178,177,176,177,178.2,178,175,179,180,175,178.9,176.2,177,172.5,178,176.5]"
   ]
  },
  {
   "cell_type": "code",
   "execution_count": 11,
   "metadata": {},
   "outputs": [
    {
     "data": {
      "text/plain": [
       "177.01875"
      ]
     },
     "execution_count": 11,
     "metadata": {},
     "output_type": "execute_result"
    }
   ],
   "source": [
    "import numpy as np\n",
    "from scipy import stats\n",
    "data=[178,177,176,177,178.2,178,175,179,180,175,178.9,176.2,177,172.5,178,176.5]\n",
    "np.mean(data)"
   ]
  },
  {
   "cell_type": "code",
   "execution_count": 10,
   "metadata": {},
   "outputs": [
    {
     "data": {
      "text/plain": [
       "177.0"
      ]
     },
     "execution_count": 10,
     "metadata": {},
     "output_type": "execute_result"
    }
   ],
   "source": [
    "np.median(data)"
   ]
  },
  {
   "cell_type": "code",
   "execution_count": 12,
   "metadata": {},
   "outputs": [
    {
     "data": {
      "text/plain": [
       "ModeResult(mode=177.0, count=3)"
      ]
     },
     "execution_count": 12,
     "metadata": {},
     "output_type": "execute_result"
    }
   ],
   "source": [
    "stats.mode(data)"
   ]
  },
  {
   "cell_type": "markdown",
   "metadata": {},
   "source": [
    "Q4. Find the standard deviation for the given data:\n",
    "[178,177,176,177,178.2,178,175,179,180,175,178.9,176.2,177,172.5,178,176.5]"
   ]
  },
  {
   "cell_type": "code",
   "execution_count": 13,
   "metadata": {},
   "outputs": [
    {
     "data": {
      "text/plain": [
       "1.7885814036548633"
      ]
     },
     "execution_count": 13,
     "metadata": {},
     "output_type": "execute_result"
    }
   ],
   "source": [
    "import numpy as np\n",
    "from scipy import stats\n",
    "data=[178,177,176,177,178.2,178,175,179,180,175,178.9,176.2,177,172.5,178,176.5]\n",
    "np.std(data)"
   ]
  },
  {
   "cell_type": "markdown",
   "metadata": {},
   "source": [
    "Q5. How are measures of dispersion such as range, variance, and standard deviation used to describe\n",
    "the spread of a dataset? Provide an example.\n",
    "\n",
    "\n",
    "Range: It is simply the difference between the maximum value and the minimum value given in a data set. Example: 1, 3,5, 6, 7 => Range = 7 -1= 6\n",
    "\n",
    "Variance: Deduct the mean from each data in the set, square each of them and add each square and finally divide them by the total no of values in the data set to get the variance. Variance (σ2) = ∑(X−μ)2/N\n",
    "\n",
    "Standard Deviation: The square root of the variance is known as the standard deviation i.e. S.D. = √σ.\n",
    "\n",
    "Example 1: Find the Variance and Standard Deviation of the Following Numbers: 1, 3, 5, 5, 6, 7, 9, 10.\n",
    "\n",
    "Solution:\n",
    "\n",
    "The mean = (1+ 3+ 5+ 5+ 6+ 7+ 9+ 10)/8 = 46/ 8 = 5.75\n",
    "\n",
    "Step 1: Subtract the mean value from individual value\n",
    "\n",
    "(1 – 5.75), (3 – 5.75), (5 – 5.75), (5 – 5.75), (6 – 5.75), (7 – 5.75), (9 – 5.75), (10 – 5.75)\n",
    "\n",
    "= -4.75, -2.75, -0.75, -0.75, 0.25, 1.25, 3.25, 4.25\n",
    "\n",
    "Step 2: Squaring the above values we get, 22.563, 7.563, 0.563, 0.563, 0.063, 1.563, 10.563, 18.063\n",
    "\n",
    "Step 3: 22.563 + 7.563 + 0.563 + 0.563 + 0.063 + 1.563 + 10.563 + 18.063\n",
    "= 61.504\n",
    "\n",
    "Step 4: n = 8, therefore variance (σ2) = 61.504/ 8 = 7.69\n",
    "\n",
    "Now, Standard deviation (σ) = 2.77\n",
    "\n",
    "\n",
    "\n",
    "Example 2: Calculate the range and coefficient of range for the following data values.\n",
    "\n",
    "45, 55, 63, 76, 67, 84, 75, 48, 62, 65\n",
    "\n",
    "Solution:\n",
    "\n",
    "Let Xi values be: 45, 55, 63, 76, 67, 84, 75, 48, 62, 65\n",
    "\n",
    "Here,\n",
    "\n",
    "Maxium value (Xmax) = 84\n",
    "\n",
    "Minimum or Least value (Xmin) = 45\n",
    "\n",
    "Range = Maximum value = Minimum value\n",
    "\n",
    "= 84 – 45\n",
    "\n",
    "= 39\n",
    "\n",
    "Coefficient of range = (Xmax – Xmin)/(Xmax + Xmin)\n",
    "\n",
    "= (84 – 45)/(84 + 45)\n",
    "\n",
    "= 39/129\n",
    "\n",
    "= 0.302 (approx)"
   ]
  },
  {
   "cell_type": "markdown",
   "metadata": {},
   "source": [
    "Q6. What is a Venn diagram?\n",
    "\n",
    "A Venn diagram is an illustration that uses circles to show the relationships among things or finite groups of things. Circles that overlap have a commonality while circles that do not overlap do not share those traits.\n",
    "\n",
    "Venn diagrams help to visually represent the similarities and differences between two concepts. They have long been recognized for their usefulness as educational tools. Since the mid-20th century, Venn diagrams have been used as part of the introductory logic curriculum and in elementary-level educational plans around the world."
   ]
  },
  {
   "cell_type": "markdown",
   "metadata": {},
   "source": [
    "Q7. For the two given sets A = (2,3,4,5,6,7) & B = (0,2,6,8,10). Find:\n",
    "(i) A intersection B\n",
    "(ii) A ⋃ B"
   ]
  },
  {
   "cell_type": "code",
   "execution_count": 14,
   "metadata": {},
   "outputs": [
    {
     "name": "stdout",
     "output_type": "stream",
     "text": [
      "Union : {0, 2, 3, 4, 5, 6, 7, 8, 10}\n"
     ]
    }
   ],
   "source": [
    "A={2,3,4,5,6,7}\n",
    "B={0,2,6,8,10}\n",
    "print(\"Union :\", A | B)"
   ]
  },
  {
   "cell_type": "code",
   "execution_count": 15,
   "metadata": {},
   "outputs": [
    {
     "name": "stdout",
     "output_type": "stream",
     "text": [
      "Intersection : {2, 6}\n"
     ]
    }
   ],
   "source": [
    "print(\"Intersection :\", A & B)"
   ]
  },
  {
   "cell_type": "markdown",
   "metadata": {},
   "source": [
    "Q8. What do you understand about skewness in data?\n",
    "\n",
    "Skewness is a measure of the asymmetry of a distribution. A distribution is asymmetrical when its left and right side are not mirror images.\n",
    "\n",
    "A distribution can have right (or positive), left (or negative), or zero skewness. A right-skewed distribution is longer on the right side of its peak, and a left-skewed distribution is longer on the left side of its peak:"
   ]
  },
  {
   "cell_type": "markdown",
   "metadata": {},
   "source": [
    "Q9. If a data is right skewed then what will be the position of median with respect to mean?\n",
    "\n",
    "The mean of a right-skewed distribution is almost always greater than its median. That’s because extreme values (the values in the tail) affect the mean more than the median.\n",
    "\n",
    "Therefore, median will be left of mean. "
   ]
  },
  {
   "cell_type": "markdown",
   "metadata": {},
   "source": [
    "Q10. Explain the difference between covariance and correlation. How are these measures used in\n",
    "statistical analysis?\n",
    "\n",
    "Covariance reveals how two variables change together while correlation determines how closely two variables are related to each other.\n",
    "\n",
    "Both covariance and correlation measure the relationship and the dependency between two variables.\n",
    "Covariance indicates the direction of the linear relationship between variables.\n",
    "Correlation measures both the strength and direction of the linear relationship between two variables.\n",
    "Correlation values are standardized.\n",
    "Covariance values are not standardized.\n",
    "\n",
    "Put simply, both covariance and correlation measure the relationship and the dependency between two variables. Covariance indicates the direction of the linear relationship between variables while correlation measures both the strength and direction of the linear relationship between two variables. "
   ]
  },
  {
   "cell_type": "markdown",
   "metadata": {},
   "source": [
    "Q11. What is the formula for calculating the sample mean? Provide an example calculation for a\n",
    "dataset.\n",
    "\n",
    "The general sample mean formula for calculating the sample mean is expressed as x̄ = ( Σ xi ) ÷ n. Here, x̄ denotes the average value of the samples or sample mean, xi refers all X sample values and 'n' stands for the number of sample terms in the given data.\n",
    "\n",
    "Example 1: Find the sample mean of 60, 57, 109, 50.\n",
    "\n",
    "Solution: \n",
    "\n",
    "To find: Sample mean\n",
    "\n",
    "Sum of terms = 60 + 57 + 109 + 50 = 276\n",
    "\n",
    "Number of terms = 4\n",
    "\n",
    "Using sample mean formula,\n",
    "\n",
    "mean = (sum of terms)/(number of terms)\n",
    "\n",
    "mean = 276/4 = 69"
   ]
  },
  {
   "cell_type": "markdown",
   "metadata": {},
   "source": [
    "Q12. For a normal distribution data what is the relationship between its measure of central tendency?\n",
    "\n",
    "In normal distribution, measure of central tendency is equal."
   ]
  },
  {
   "cell_type": "markdown",
   "metadata": {},
   "source": [
    "Q13. How is covariance different from correlation?\n",
    "\n",
    "Covariance reveals how two variables change together while correlation determines how closely two variables are related to each other.\n",
    "\n",
    "Both covariance and correlation measure the relationship and the dependency between two variables.\n",
    "Covariance indicates the direction of the linear relationship between variables.\n",
    "Correlation measures both the strength and direction of the linear relationship between two variables.\n",
    "Correlation values are standardized.\n",
    "Covariance values are not standardized.\n",
    "\n",
    "Put simply, both covariance and correlation measure the relationship and the dependency between two variables. Covariance indicates the direction of the linear relationship between variables while correlation measures both the strength and direction of the linear relationship between two variables. "
   ]
  },
  {
   "cell_type": "markdown",
   "metadata": {},
   "source": [
    "Q14. How do outliers affect measures of central tendency and dispersion? Provide an example."
   ]
  },
  {
   "cell_type": "code",
   "execution_count": 16,
   "metadata": {},
   "outputs": [
    {
     "data": {
      "text/plain": [
       "177.01875"
      ]
     },
     "execution_count": 16,
     "metadata": {},
     "output_type": "execute_result"
    }
   ],
   "source": [
    "import numpy as np\n",
    "data=[178,177,176,177,178.2,178,175,179,180,175,178.9,176.2,177,172.5,178,176.5]\n",
    "np.mean(data)"
   ]
  },
  {
   "cell_type": "code",
   "execution_count": 19,
   "metadata": {},
   "outputs": [
    {
     "data": {
      "text/plain": [
       "1.7885814036548633"
      ]
     },
     "execution_count": 19,
     "metadata": {},
     "output_type": "execute_result"
    }
   ],
   "source": [
    "np.std(data)"
   ]
  },
  {
   "cell_type": "code",
   "execution_count": 20,
   "metadata": {},
   "outputs": [
    {
     "data": {
      "text/plain": [
       "3.199023437500001"
      ]
     },
     "execution_count": 20,
     "metadata": {},
     "output_type": "execute_result"
    }
   ],
   "source": [
    "np.var(data)"
   ]
  },
  {
   "cell_type": "code",
   "execution_count": 18,
   "metadata": {},
   "outputs": [
    {
     "data": {
      "text/plain": [
       "225.37058823529412"
      ]
     },
     "execution_count": 18,
     "metadata": {},
     "output_type": "execute_result"
    }
   ],
   "source": [
    "data2=[178,177,176,177,178.2,178,175,179,180,175,178.9,176.2,177,172.5,178,176.5,999]\n",
    "np.mean(data2)"
   ]
  },
  {
   "cell_type": "code",
   "execution_count": 21,
   "metadata": {},
   "outputs": [
    {
     "data": {
      "text/plain": [
       "193.4151364741163"
      ]
     },
     "execution_count": 21,
     "metadata": {},
     "output_type": "execute_result"
    }
   ],
   "source": [
    "np.std(data2)"
   ]
  },
  {
   "cell_type": "code",
   "execution_count": 22,
   "metadata": {},
   "outputs": [
    {
     "data": {
      "text/plain": [
       "37409.41501730104"
      ]
     },
     "execution_count": 22,
     "metadata": {},
     "output_type": "execute_result"
    }
   ],
   "source": [
    "np.var(data2)"
   ]
  }
 ],
 "metadata": {
  "kernelspec": {
   "display_name": "Python 3",
   "language": "python",
   "name": "python3"
  },
  "language_info": {
   "codemirror_mode": {
    "name": "ipython",
    "version": 3
   },
   "file_extension": ".py",
   "mimetype": "text/x-python",
   "name": "python",
   "nbconvert_exporter": "python",
   "pygments_lexer": "ipython3",
   "version": "3.10.7"
  },
  "orig_nbformat": 4
 },
 "nbformat": 4,
 "nbformat_minor": 2
}
