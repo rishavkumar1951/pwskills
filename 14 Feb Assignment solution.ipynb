{
 "cells": [
  {
   "cell_type": "markdown",
   "metadata": {},
   "source": [
    "# Q1"
   ]
  },
  {
   "cell_type": "markdown",
   "metadata": {},
   "source": [
    "https://www.geeksforgeeks.org/multithreading-python-set-1/\n",
    "\n",
    "Multithreading is defined as the ability of a processor to execute multiple threads concurrently. In a simple, single-core CPU, it is achieved using frequent switching between threads. This is termed context switching. In context switching, the state of a thread is saved and the state of another thread is loaded whenever any interrupt (due to I/O or manually set) takes place. Context switching takes place so frequently that all the threads appear to be running parallelly (this is termed multitasking).\n",
    "\n",
    "Python multithreading enables efficient utilization of the resources as the threads share the data space and memory. Multithreading in Python allows the concurrent and parallel occurrence of various tasks. It causes a reduction in time consumption or response time, thereby increasing the performance.\n",
    "\n",
    "import threading  # used to handle multithreading"
   ]
  },
  {
   "cell_type": "markdown",
   "metadata": {},
   "source": [
    "# Q2"
   ]
  },
  {
   "cell_type": "markdown",
   "metadata": {},
   "source": [
    "Python threading allows you to have different parts of your program run concurrently and can simplify your design.\n",
    "\n",
    "* active_count() is an inbuilt method of the threading module, it is used to return the number of Thread objects that are active at any instant.\n",
    "\n",
    "* The threading. current_thread() is an inbuilt method of the threading module, it is used to return the current Thread object, which corresponds to the caller's thread of control.\n",
    "\n",
    "* Syntax: enumerate(iterable, start=0)\n",
    "\n",
    "Parameters:\n",
    "\n",
    "Iterable: any object that supports iteration\n",
    "Start: the index value from which the counter is to be started, by default it is 0\n",
    "Return: Returns an iterator with index and element pairs from the original iterable"
   ]
  },
  {
   "cell_type": "markdown",
   "metadata": {},
   "source": [
    "# Q3"
   ]
  },
  {
   "cell_type": "markdown",
   "metadata": {},
   "source": [
    "* The .run() method executes any target function belonging to a given thread object that is now active. It normally executes in the background after the .start() method is invoked.\n",
    "\n",
    "* start() method is an inbuilt method of the Thread class of the threading module, it is used to start a thread's activity. This method calls the run() method internally which then executes the target method.\n",
    "\n",
    "* The Thread. join() method is an inbuilt method of the Thread class of the threading module. Whenever this method is called for any Thread object, it blocks the calling thread till the time the thread whose join() method is called terminates, either normally or through an unhandled exception.\n",
    "\n",
    "* The is_alive() method tests whether the thread is alive. Other threads can call a thread's join() method."
   ]
  },
  {
   "cell_type": "markdown",
   "metadata": {},
   "source": [
    "# Q4"
   ]
  },
  {
   "cell_type": "code",
   "execution_count": 8,
   "metadata": {},
   "outputs": [
    {
     "name": "stdout",
     "output_type": "stream",
     "text": [
      "Square of  0  =  0\n",
      "Square of  1  =  1\n",
      "Square of  2  =  4\n",
      "Square of  3  =  9\n",
      "Square of  4  =  16\n",
      "Square of  5  =  25\n",
      "Square of  6  =  36\n",
      "Square of  7  =  49\n",
      "Square of  8  =  64\n",
      "Square of  9  =  81\n",
      "Cube of  0  =  0\n",
      "Cube of  1  =  1\n",
      "Cube of  2  =  8\n",
      "Cube of  3  =  27\n",
      "Cube of  4  =  64\n",
      "Cube of  5  =  125\n",
      "Cube of  6  =  216\n",
      "Cube of  7  =  343\n",
      "Cube of  8  =  512\n",
      "Cube of  9  =  729\n",
      "Done!\n"
     ]
    }
   ],
   "source": [
    "# Python program to illustrate the concept\n",
    "# of threading\n",
    "# importing the threading module\n",
    "import threading\n",
    "\n",
    "\n",
    "def print_cube(num):\n",
    "\t# function to print cube of given num\n",
    "    for i in range(num) : \n",
    "\t    print(\"Cube of \", i, \" = \", i*i*i)\n",
    "\n",
    "\n",
    "def print_square(num):\n",
    "\t# function to print square of given num\n",
    "\tfor i in range(num) : \n",
    "\t    print(\"Square of \", i, \" = \", i*i)\n",
    "\n",
    "\n",
    "if __name__ ==\"__main__\":\n",
    "\t# creating thread\n",
    "\tt1 = threading.Thread(target=print_square, args=(10,))\n",
    "\tt2 = threading.Thread(target=print_cube, args=(10,))\n",
    "\n",
    "\t# starting thread 1\n",
    "\tt1.start()\n",
    "\t# starting thread 2\n",
    "\tt2.start()\n",
    "\n",
    "\t# wait until thread 1 is completely executed\n",
    "\tt1.join()\n",
    "\t# wait until thread 2 is completely executed\n",
    "\tt2.join()\n",
    "\n",
    "\t# both threads completely executed\n",
    "\tprint(\"Done!\")\n"
   ]
  },
  {
   "cell_type": "markdown",
   "metadata": {},
   "source": [
    "# Q5"
   ]
  },
  {
   "cell_type": "markdown",
   "metadata": {},
   "source": [
    "#### Following are some of the common advantages of multithreading:\n",
    "\n",
    "* Enhanced performance by decreased development time\n",
    "* Simplified and streamlined program coding\n",
    "* Improvised GUI responsiveness\n",
    "* Simultaneous and parallelized occurrence of tasks\n",
    "* Better use of cache storage by utilization of resources\n",
    "* Decreased cost of maintenance\n",
    "* Better use of CPU resource\n",
    "\n",
    "\n",
    "#### Multithreading does not only provide you with benefits, it has its disadvantages too. Let us go through some common disadvantages:\n",
    "\n",
    "* Complex debugging and testing processes\n",
    "* Overhead switching of context\n",
    "* Increased potential for deadlock occurrence\n",
    "* Increased difficulty level in writing a program\n",
    "* Unpredictable results"
   ]
  },
  {
   "cell_type": "markdown",
   "metadata": {},
   "source": [
    "# Q6"
   ]
  },
  {
   "cell_type": "markdown",
   "metadata": {},
   "source": [
    "https://learn.microsoft.com/en-us/troubleshoot/developer/visualstudio/visual-basic/language-compilers/race-conditions-deadlocks\n",
    "\n",
    "\n",
    "https://cloudxlab.com/blog/race-condition-and-deadlock/\n",
    "\n",
    "What is a Race Condition?\n",
    "When two processes are competing with each other causing data corruption.\n",
    "\n",
    "As shown in the diagram, two persons are trying to deposit 1 dollar online into the same bank account. The initial amount is 17 dollar. Both the persons would be able to see $17 initially. Each of them tries to deposit $1, and the final amount is expected to be $19. But due to race conditions, the final amount in the bank is $18 instead of $19. This is also known as dirty read.\n",
    "\n",
    "For example, if two processes/threads are trying to execute the following conditions simultaneously, they cause data corruption:\n",
    "\n",
    "Thread 1:\n",
    "total = num1 + num2\n",
    "\n",
    "Thread 2:\n",
    "total = num1 - num2\n",
    "\n",
    "It is very common for the race conditions to go unnoticed during testing even after multiple tests and code reviews. But in production, there would be a lot of processes and threads working parallelly and compete for the same resources, and this problem would occur.\n",
    "\n",
    "What is a Dead Lock?\n",
    "When two processes are waiting for each other directly or indirectly, it is called deadlock.\n",
    "\n",
    "This usually occurs when two processes are waiting for shared resources acquired by others. For example, If thread T1 acquired resource R1 and it also needs resource R2 for it to accomplish its task. But the resource R2 is acquired by thread T2 which is waiting for resource R1(which is acquired by T1).. Neither of them will be able to accomplish its task, as they keep waiting for the other resources they need.\n",
    "\n",
    "As you can see in the second diagram, process 1 is waiting for process 2 and process 2 is waiting for process 3 to finish and process 3 is waiting for process 1 to finish. All these three processes would keep waiting and will never end. This is called deadlock."
   ]
  }
 ],
 "metadata": {
  "kernelspec": {
   "display_name": "Python 3",
   "language": "python",
   "name": "python3"
  },
  "language_info": {
   "codemirror_mode": {
    "name": "ipython",
    "version": 3
   },
   "file_extension": ".py",
   "mimetype": "text/x-python",
   "name": "python",
   "nbconvert_exporter": "python",
   "pygments_lexer": "ipython3",
   "version": "3.9.6"
  }
 },
 "nbformat": 4,
 "nbformat_minor": 2
}
